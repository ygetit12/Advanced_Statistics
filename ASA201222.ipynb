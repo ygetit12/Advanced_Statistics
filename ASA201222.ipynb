{
 "cells": [
  {
   "cell_type": "markdown",
   "id": "5083eb8e",
   "metadata": {},
   "source": [
    "# Inferential Statistics : \n",
    "\n",
    "Population, sample\n",
    "\n",
    "data\n",
    "\n",
    "sample statistic\n",
    "\n",
    "sample statistic (SS)\n",
    "\n",
    "single number calculated on the basis if the data collected from a sample\n",
    "\n",
    "population parameter (PP)\n",
    "\n",
    "single number calculated on the basis of the data collected from a population\n",
    "\n",
    "results of exit poll or opinion poll - sample statistic\n",
    "\n",
    "results of election commission - population parameter\n",
    "\n",
    "SS is a function of (time,source,datasize)\n"
   ]
  },
  {
   "cell_type": "code",
   "execution_count": 1,
   "id": "44bab529",
   "metadata": {},
   "outputs": [],
   "source": [
    "# SS = PP + Bias + Chance variation\n",
    "# Bias - inclination towards or against a group without any substantial facts\n",
    "# Chance variation is bound to occur unless and until data is collected from the entire population\n",
    "# confidence level\n",
    "# default value of Cl = 95%# 5% chance of me giving you a wrong result\n",
    "# If you wish CL =100%, then sample size = population size. In this case, the chance variation would NOT be there\n",
    "# If Vishal reports the rating to be between 7 and 9 @ 95% CL, this means he wants to tell me that if I collect the PP, then there is a 95% chance for that to be between 7 and 9. 5% chance that it could either be less than 7 or more than 9\n",
    "# SS = PP + CV ===> You will give me two numbers as an estimate for the SS\n"
   ]
  },
  {
   "cell_type": "code",
   "execution_count": null,
   "id": "6a31d675",
   "metadata": {},
   "outputs": [],
   "source": [
    "\n"
   ]
  },
  {
   "cell_type": "code",
   "execution_count": null,
   "id": "e4e79255",
   "metadata": {},
   "outputs": [],
   "source": []
  }
 ],
 "metadata": {
  "kernelspec": {
   "display_name": "Python 3 (ipykernel)",
   "language": "python",
   "name": "python3"
  },
  "language_info": {
   "codemirror_mode": {
    "name": "ipython",
    "version": 3
   },
   "file_extension": ".py",
   "mimetype": "text/x-python",
   "name": "python",
   "nbconvert_exporter": "python",
   "pygments_lexer": "ipython3",
   "version": "3.9.13"
  }
 },
 "nbformat": 4,
 "nbformat_minor": 5
}
