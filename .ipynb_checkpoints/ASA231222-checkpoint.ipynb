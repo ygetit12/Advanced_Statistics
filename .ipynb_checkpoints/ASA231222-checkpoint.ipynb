{
 "cells": [
  {
   "cell_type": "markdown",
   "id": "c5f59d9d",
   "metadata": {},
   "source": [
    "#inferential statistic \n",
    "# Predictive analysis\n"
   ]
  },
  {
   "cell_type": "code",
   "execution_count": 2,
   "id": "466ef00f",
   "metadata": {},
   "outputs": [],
   "source": [
    "import numpy as np "
   ]
  },
  {
   "cell_type": "code",
   "execution_count": 3,
   "id": "9efa5a52",
   "metadata": {},
   "outputs": [],
   "source": [
    "import pandas as pd "
   ]
  },
  {
   "cell_type": "code",
   "execution_count": 4,
   "id": "d38be634",
   "metadata": {},
   "outputs": [],
   "source": [
    "import scipy "
   ]
  },
  {
   "cell_type": "code",
   "execution_count": 5,
   "id": "170fda7c",
   "metadata": {},
   "outputs": [],
   "source": [
    "from scipy import stats "
   ]
  },
  {
   "cell_type": "code",
   "execution_count": 6,
   "id": "07c816e5",
   "metadata": {},
   "outputs": [],
   "source": [
    "from scipy.stats import rv_discrete"
   ]
  },
  {
   "cell_type": "markdown",
   "id": "2c76ac04",
   "metadata": {},
   "source": [
    "for 10 accidents per day"
   ]
  },
  {
   "cell_type": "code",
   "execution_count": 9,
   "id": "0be28ed7",
   "metadata": {},
   "outputs": [
    {
     "data": {
      "text/plain": [
       "(4.0, 17.0)"
      ]
     },
     "execution_count": 9,
     "metadata": {},
     "output_type": "execute_result"
    }
   ],
   "source": [
    "scipy.stats.poisson.interval(0.95,10)"
   ]
  },
  {
   "cell_type": "markdown",
   "id": "a5543d7f",
   "metadata": {},
   "source": [
    "Q1.) Taking decision based on counts.\n",
    "# Ho: number of accidents in mumbai are 25 per day\n",
    "In sample of 10 days,127 accidents took place => 12.7 accidents per day"
   ]
  },
  {
   "cell_type": "code",
   "execution_count": 10,
   "id": "d3301c62",
   "metadata": {},
   "outputs": [
    {
     "data": {
      "text/plain": [
       "(6.0, 20.0)"
      ]
     },
     "execution_count": 10,
     "metadata": {},
     "output_type": "execute_result"
    }
   ],
   "source": [
    "scipy.stats.poisson.interval(0.95,12.7)"
   ]
  },
  {
   "cell_type": "markdown",
   "id": "ce45804d",
   "metadata": {},
   "source": []
  },
  {
   "cell_type": "code",
   "execution_count": null,
   "id": "254441e1",
   "metadata": {},
   "outputs": [],
   "source": []
  }
 ],
 "metadata": {
  "kernelspec": {
   "display_name": "Python 3 (ipykernel)",
   "language": "python",
   "name": "python3"
  },
  "language_info": {
   "codemirror_mode": {
    "name": "ipython",
    "version": 3
   },
   "file_extension": ".py",
   "mimetype": "text/x-python",
   "name": "python",
   "nbconvert_exporter": "python",
   "pygments_lexer": "ipython3",
   "version": "3.9.13"
  }
 },
 "nbformat": 4,
 "nbformat_minor": 5
}
