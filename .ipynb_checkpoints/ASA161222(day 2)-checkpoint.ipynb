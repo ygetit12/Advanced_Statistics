{
 "cells": [
  {
   "cell_type": "markdown",
   "id": "f5f23c43",
   "metadata": {},
   "source": [
    "# Arithmetic operations in numpy"
   ]
  },
  {
   "cell_type": "code",
   "execution_count": 111,
   "id": "553c81df",
   "metadata": {},
   "outputs": [],
   "source": [
    "import numpy as np"
   ]
  },
  {
   "cell_type": "code",
   "execution_count": 112,
   "id": "4f0327f9",
   "metadata": {},
   "outputs": [],
   "source": [
    "x=np.array([[1,2,3],[4,5,6]])\n",
    "y=np.array([[6,7],[8,9],[4,8]])"
   ]
  },
  {
   "cell_type": "code",
   "execution_count": 113,
   "id": "c032c8a3",
   "metadata": {},
   "outputs": [
    {
     "data": {
      "text/plain": [
       "array([[1, 2, 3],\n",
       "       [4, 5, 6]])"
      ]
     },
     "execution_count": 113,
     "metadata": {},
     "output_type": "execute_result"
    }
   ],
   "source": [
    "x"
   ]
  },
  {
   "cell_type": "code",
   "execution_count": 114,
   "id": "7c0c98e8",
   "metadata": {},
   "outputs": [
    {
     "data": {
      "text/plain": [
       "array([[6, 7],\n",
       "       [8, 9],\n",
       "       [4, 8]])"
      ]
     },
     "execution_count": 114,
     "metadata": {},
     "output_type": "execute_result"
    }
   ],
   "source": [
    "y"
   ]
  },
  {
   "cell_type": "code",
   "execution_count": 115,
   "id": "20ab0607",
   "metadata": {},
   "outputs": [
    {
     "data": {
      "text/plain": [
       "(2, 3)"
      ]
     },
     "execution_count": 115,
     "metadata": {},
     "output_type": "execute_result"
    }
   ],
   "source": [
    "x.shape"
   ]
  },
  {
   "cell_type": "code",
   "execution_count": 116,
   "id": "c8018690",
   "metadata": {},
   "outputs": [
    {
     "data": {
      "text/plain": [
       "array([[ 34,  49],\n",
       "       [ 88, 121]])"
      ]
     },
     "execution_count": 116,
     "metadata": {},
     "output_type": "execute_result"
    }
   ],
   "source": [
    "x.dot(y)#product"
   ]
  },
  {
   "cell_type": "code",
   "execution_count": 117,
   "id": "79d9faee",
   "metadata": {},
   "outputs": [
    {
     "data": {
      "text/plain": [
       "array([[34, 47, 60],\n",
       "       [44, 61, 78],\n",
       "       [36, 48, 60]])"
      ]
     },
     "execution_count": 117,
     "metadata": {},
     "output_type": "execute_result"
    }
   ],
   "source": [
    "y.dot(x)"
   ]
  },
  {
   "cell_type": "code",
   "execution_count": 118,
   "id": "06bcc67d",
   "metadata": {},
   "outputs": [
    {
     "data": {
      "text/plain": [
       "array([[ 34,  49],\n",
       "       [ 88, 121]])"
      ]
     },
     "execution_count": 118,
     "metadata": {},
     "output_type": "execute_result"
    }
   ],
   "source": [
    "np.matmul(x,y)#another way to find the product"
   ]
  },
  {
   "cell_type": "markdown",
   "id": "34b5583e",
   "metadata": {},
   "source": [
    "# Linear Algebra Library of Numpy"
   ]
  },
  {
   "cell_type": "code",
   "execution_count": 119,
   "id": "4c1810ba",
   "metadata": {},
   "outputs": [],
   "source": [
    "from numpy import linalg\n",
    "from numpy.linalg import inv,qr\n",
    "#inv=inverse matrix\n",
    "#q=orthogonal ,r=upper trangular\n",
    "# Two vectors are orthogonal to each other when their dot product is 0. \n",
    "#So, these vectors will still be orthogonal to each other and now individually they also have unit magnitude."
   ]
  },
  {
   "cell_type": "code",
   "execution_count": 120,
   "id": "668b6b30",
   "metadata": {},
   "outputs": [],
   "source": [
    "list1=[2,3,4]\n",
    "list2=[6,7,8]\n",
    "list3=[7,8,9]"
   ]
  },
  {
   "cell_type": "code",
   "execution_count": 121,
   "id": "6b49fda0",
   "metadata": {},
   "outputs": [
    {
     "data": {
      "text/plain": [
       "array([[2, 3, 4],\n",
       "       [6, 7, 8],\n",
       "       [7, 8, 9]])"
      ]
     },
     "execution_count": 121,
     "metadata": {},
     "output_type": "execute_result"
    }
   ],
   "source": [
    "array=np.array([list1,list2,list3])\n",
    "array"
   ]
  },
  {
   "cell_type": "code",
   "execution_count": 122,
   "id": "9bd50462",
   "metadata": {},
   "outputs": [
    {
     "data": {
      "text/plain": [
       "array([[ 5.68021575e+14, -2.84010787e+15,  2.27208630e+15],\n",
       "       [-1.13604315e+15,  5.68021575e+15, -4.54417260e+15],\n",
       "       [ 5.68021575e+14, -2.84010787e+15,  2.27208630e+15]])"
      ]
     },
     "execution_count": 122,
     "metadata": {},
     "output_type": "execute_result"
    }
   ],
   "source": [
    "#inverse of matrix\n",
    "np.linalg.inv(array)"
   ]
  },
  {
   "cell_type": "code",
   "execution_count": 123,
   "id": "43e0f226",
   "metadata": {},
   "outputs": [
    {
     "data": {
      "text/plain": [
       "-1.7604965104770423e-15"
      ]
     },
     "execution_count": 123,
     "metadata": {},
     "output_type": "execute_result"
    }
   ],
   "source": [
    "np.linalg.det(array)"
   ]
  },
  {
   "cell_type": "code",
   "execution_count": 124,
   "id": "36462f36",
   "metadata": {},
   "outputs": [
    {
     "data": {
      "text/plain": [
       "array([[ 1,  1,  1],\n",
       "       [ 0,  2,  3],\n",
       "       [ 2,  3, -6]])"
      ]
     },
     "execution_count": 124,
     "metadata": {},
     "output_type": "execute_result"
    }
   ],
   "source": [
    "'''\n",
    "2x + 5y - z = 27\n",
    "2y + 5z = -4\n",
    "x + y+ z = 6\n",
    "'''\n",
    "a=np.array([[1,1,1],[0,2,3],[2,3,-6]])\n",
    "a"
   ]
  },
  {
   "cell_type": "code",
   "execution_count": 125,
   "id": "c4afb80d",
   "metadata": {},
   "outputs": [
    {
     "data": {
      "text/plain": [
       "array([ 6,  7, -8])"
      ]
     },
     "execution_count": 125,
     "metadata": {},
     "output_type": "execute_result"
    }
   ],
   "source": [
    "b=np.array([6,7,-8])\n",
    "b"
   ]
  },
  {
   "cell_type": "code",
   "execution_count": 126,
   "id": "f1d01e9a",
   "metadata": {},
   "outputs": [
    {
     "data": {
      "text/plain": [
       "array([[ 1.10526316, -0.47368421, -0.05263158],\n",
       "       [-0.31578947,  0.42105263,  0.15789474],\n",
       "       [ 0.21052632,  0.05263158, -0.10526316]])"
      ]
     },
     "execution_count": 126,
     "metadata": {},
     "output_type": "execute_result"
    }
   ],
   "source": [
    "#to find out the inverse of a\n",
    "Ainv=np.linalg.inv(a)\n",
    "Ainv"
   ]
  },
  {
   "cell_type": "code",
   "execution_count": 127,
   "id": "ca7d347e",
   "metadata": {},
   "outputs": [
    {
     "data": {
      "text/plain": [
       "array([ 3.73684211, -0.21052632,  2.47368421])"
      ]
     },
     "execution_count": 127,
     "metadata": {},
     "output_type": "execute_result"
    }
   ],
   "source": [
    "Ainv.dot(b)"
   ]
  },
  {
   "cell_type": "markdown",
   "id": "9e94daef",
   "metadata": {},
   "source": [
    "# Random number generating using numpy library"
   ]
  },
  {
   "cell_type": "code",
   "execution_count": 128,
   "id": "dec6fa15",
   "metadata": {},
   "outputs": [],
   "source": [
    "from numpy import random\n",
    "#this module contains the functions which are used for generating random number"
   ]
  },
  {
   "cell_type": "code",
   "execution_count": 129,
   "id": "428990d3",
   "metadata": {},
   "outputs": [
    {
     "data": {
      "text/plain": [
       "array([0.04500036, 0.64712031, 0.77701148, 0.50863388, 0.52096092,\n",
       "       0.23766459, 0.77574793, 0.1343484 , 0.40722746, 0.66901413])"
      ]
     },
     "execution_count": 129,
     "metadata": {},
     "output_type": "execute_result"
    }
   ],
   "source": [
    "np.random.rand(10) # no.between 0 to 1"
   ]
  },
  {
   "cell_type": "code",
   "execution_count": 130,
   "id": "32509eba",
   "metadata": {},
   "outputs": [
    {
     "data": {
      "text/plain": [
       "array([1.35621710e+00, 2.73589705e+00, 7.56003220e+00, 9.86075763e+00,\n",
       "       2.54079023e-01, 8.22794398e+00, 4.45092463e+00, 6.01690154e+00,\n",
       "       6.95144786e+00, 5.68358987e-03])"
      ]
     },
     "execution_count": 130,
     "metadata": {},
     "output_type": "execute_result"
    }
   ],
   "source": [
    "np.random.rand(10)*10 # no.between 0 to 10"
   ]
  },
  {
   "cell_type": "code",
   "execution_count": 131,
   "id": "135ebde8",
   "metadata": {},
   "outputs": [
    {
     "data": {
      "text/plain": [
       "array([22.6188469 , 72.92157989, 64.35932579, 40.37586997, 15.18510904,\n",
       "       46.34593182, 55.46929904, 27.56982047, 21.09255021, 26.45394233,\n",
       "       80.43226755, 20.95610983, 49.40310711, 46.90703723, 14.27759957,\n",
       "       21.42488451, 57.71603214, 46.75949752, 26.43651676, 59.70973104,\n",
       "       65.69147987, 46.02150887, 52.19541458, 88.58277833, 13.28068028,\n",
       "       39.76631003, 14.40721671, 18.80190126, 30.71893909, 37.92957156,\n",
       "        6.94016551, 57.87516715, 62.36191162, 34.29366943, 22.67758516,\n",
       "       30.04743256, 47.81623258,  4.15235293, 92.25533471, 28.20650546,\n",
       "       85.98854863, 16.16395991, 44.29026942, 38.28874248, 57.0005147 ,\n",
       "        5.94073729, 85.77781399, 67.38643224, 74.71012148, 86.99888019,\n",
       "       50.90153719, 39.41185938, 29.90505565, 92.91062647, 68.91445614,\n",
       "       51.77136865, 13.17469212, 49.58643717, 21.07323064, 71.69725133,\n",
       "       20.13548747, 15.81217215, 44.82081699, 15.88184243, 83.01959154,\n",
       "       31.98281716, 34.46615017, 59.43146821,  7.3127283 , 33.30049663,\n",
       "        0.54786755, 65.50368651, 32.40593407, 11.67626564, 79.5536652 ,\n",
       "       32.90978166, 59.5041167 , 95.36809868, 65.19667992, 71.92802645,\n",
       "        2.51991295, 96.92133518, 96.86605928,  9.52705034, 64.59791818,\n",
       "       85.86527603,  6.69259443, 83.18091016, 28.70329775, 40.65025938,\n",
       "       60.49811589, 66.0922172 ,  6.94824593, 76.28430134, 14.2162868 ,\n",
       "       41.23920051, 23.26229944, 53.62116138, 58.91039649, 26.06981635])"
      ]
     },
     "execution_count": 131,
     "metadata": {},
     "output_type": "execute_result"
    }
   ],
   "source": [
    "np.random.rand(100)*100 # no.between 0 to 100"
   ]
  },
  {
   "cell_type": "code",
   "execution_count": 132,
   "id": "9c8ba72a",
   "metadata": {},
   "outputs": [
    {
     "data": {
      "text/plain": [
       "21"
      ]
     },
     "execution_count": 132,
     "metadata": {},
     "output_type": "execute_result"
    }
   ],
   "source": [
    "np.random.randint(10,40) \n",
    "# random integer between 10 to 40"
   ]
  },
  {
   "cell_type": "code",
   "execution_count": 133,
   "id": "4d8052a9",
   "metadata": {},
   "outputs": [
    {
     "data": {
      "text/plain": [
       "array([51, 12, 43, 45, 60, 26, 24, 37, 54, 20, 46, 50, 14, 53, 27])"
      ]
     },
     "execution_count": 133,
     "metadata": {},
     "output_type": "execute_result"
    }
   ],
   "source": [
    "np.random.randint(10,70,15) \n",
    "# random interer between 10,25,40,55,70"
   ]
  },
  {
   "cell_type": "markdown",
   "id": "c895192d",
   "metadata": {},
   "source": [
    "# Checking and changing working directory"
   ]
  },
  {
   "cell_type": "code",
   "execution_count": 134,
   "id": "52fb66a5",
   "metadata": {},
   "outputs": [],
   "source": [
    "import os"
   ]
  },
  {
   "cell_type": "code",
   "execution_count": 135,
   "id": "a90551fe",
   "metadata": {},
   "outputs": [
    {
     "data": {
      "text/plain": [
       "'C:\\\\Users\\\\ZS283MZ\\\\CDAC-Advanced_Statistical_Analysis'"
      ]
     },
     "execution_count": 135,
     "metadata": {},
     "output_type": "execute_result"
    }
   ],
   "source": [
    "os.getcwd()"
   ]
  },
  {
   "cell_type": "code",
   "execution_count": 136,
   "id": "8f39c9d8",
   "metadata": {},
   "outputs": [],
   "source": [
    "os.chdir(r'C:\\\\Users\\\\ZS283MZ\\\\CDAC-Advanced_Statistical_Analysis') # for changing working directory"
   ]
  },
  {
   "cell_type": "code",
   "execution_count": 137,
   "id": "83f4b91a",
   "metadata": {},
   "outputs": [
    {
     "data": {
      "text/plain": [
       "'C:\\\\Users\\\\ZS283MZ\\\\CDAC-Advanced_Statistical_Analysis'"
      ]
     },
     "execution_count": 137,
     "metadata": {},
     "output_type": "execute_result"
    }
   ],
   "source": [
    "os.getcwd()"
   ]
  },
  {
   "cell_type": "markdown",
   "id": "9d2589a1",
   "metadata": {},
   "source": [
    "# to save an array you created"
   ]
  },
  {
   "cell_type": "code",
   "execution_count": 138,
   "id": "62d3fe95",
   "metadata": {},
   "outputs": [],
   "source": [
    "x=np.array([[1,2,3],[4,5,6]])"
   ]
  },
  {
   "cell_type": "code",
   "execution_count": 139,
   "id": "2806122e",
   "metadata": {},
   "outputs": [],
   "source": [
    "np.save('MyArray',x)"
   ]
  },
  {
   "cell_type": "code",
   "execution_count": 140,
   "id": "2b70440f",
   "metadata": {},
   "outputs": [
    {
     "data": {
      "text/plain": [
       "(array([[1, 2, 3],\n",
       "        [4, 5, 6]]),)"
      ]
     },
     "execution_count": 140,
     "metadata": {},
     "output_type": "execute_result"
    }
   ],
   "source": [
    "y=np.load('MyArray.npy'),\n",
    "y"
   ]
  },
  {
   "cell_type": "markdown",
   "id": "936f5e12",
   "metadata": {},
   "source": [
    "# Pandas"
   ]
  },
  {
   "cell_type": "code",
   "execution_count": 141,
   "id": "b21dd012",
   "metadata": {},
   "outputs": [
    {
     "data": {
      "text/plain": [
       "'The Pandas module mainly works with the tabular data, whereas the NumPy module works with the numerical data'"
      ]
     },
     "execution_count": 141,
     "metadata": {},
     "output_type": "execute_result"
    }
   ],
   "source": [
    "'''The Pandas module mainly works with the tabular data, whereas the NumPy module works with the numerical data'''"
   ]
  },
  {
   "cell_type": "code",
   "execution_count": 142,
   "id": "b85170e3",
   "metadata": {},
   "outputs": [],
   "source": [
    "import pandas as pd"
   ]
  },
  {
   "cell_type": "code",
   "execution_count": 143,
   "id": "4ba0076f",
   "metadata": {},
   "outputs": [],
   "source": [
    "list1=[1,2,3,4]"
   ]
  },
  {
   "cell_type": "code",
   "execution_count": 144,
   "id": "0855669f",
   "metadata": {},
   "outputs": [
    {
     "data": {
      "text/plain": [
       "0    1\n",
       "1    2\n",
       "2    3\n",
       "3    4\n",
       "dtype: int64"
      ]
     },
     "execution_count": 144,
     "metadata": {},
     "output_type": "execute_result"
    }
   ],
   "source": [
    "x=pd.Series(list1)\n",
    "x"
   ]
  },
  {
   "cell_type": "code",
   "execution_count": 145,
   "id": "45bc5274",
   "metadata": {},
   "outputs": [
    {
     "data": {
      "text/plain": [
       "pandas.core.series.Series"
      ]
     },
     "execution_count": 145,
     "metadata": {},
     "output_type": "execute_result"
    }
   ],
   "source": [
    "type(x)"
   ]
  },
  {
   "cell_type": "code",
   "execution_count": 146,
   "id": "3066b57e",
   "metadata": {},
   "outputs": [
    {
     "data": {
      "text/plain": [
       "a    1\n",
       "b    2\n",
       "c    3\n",
       "d    4\n",
       "dtype: int64"
      ]
     },
     "execution_count": 146,
     "metadata": {},
     "output_type": "execute_result"
    }
   ],
   "source": [
    "x=pd.Series(list1,index=['a','b','c','d'])\n",
    "x"
   ]
  },
  {
   "cell_type": "code",
   "execution_count": 147,
   "id": "7b52dddf",
   "metadata": {},
   "outputs": [
    {
     "data": {
      "text/plain": [
       "'Datasets in Pandas are usually multi-dimensional tables, \\ncalled DataFrames. Series is like a column, a DataFrame is \\nthe whole table.A Pandas DataFrame is a 2 dimensional data \\nstructure, like \\na 2 dimensional array, or a table with rows and columns.'"
      ]
     },
     "execution_count": 147,
     "metadata": {},
     "output_type": "execute_result"
    }
   ],
   "source": [
    "'''Datasets in Pandas are usually multi-dimensional tables, \n",
    "called DataFrames. Series is like a column, a DataFrame is \n",
    "the whole table.A Pandas DataFrame is a 2 dimensional data \n",
    "structure, like \n",
    "a 2 dimensional array, or a table with rows and columns.'''"
   ]
  },
  {
   "cell_type": "code",
   "execution_count": 148,
   "id": "11288f4b",
   "metadata": {},
   "outputs": [
    {
     "data": {
      "text/plain": [
       "'\\nCREATING DATAFRAME\\nList method - row wise info\\nDictionary method- column wise info\\n'"
      ]
     },
     "execution_count": 148,
     "metadata": {},
     "output_type": "execute_result"
    }
   ],
   "source": [
    "'''\n",
    "CREATING DATAFRAME\n",
    "List method - row wise info\n",
    "Dictionary method- column wise info\n",
    "'''"
   ]
  },
  {
   "cell_type": "code",
   "execution_count": 149,
   "id": "1a89f638",
   "metadata": {},
   "outputs": [
    {
     "data": {
      "text/plain": [
       "[['Abi', 'ba', 'ca'], ['Vade', 'Pune', 21], ['Sundeep', 'Bly', 45]]"
      ]
     },
     "execution_count": 149,
     "metadata": {},
     "output_type": "execute_result"
    }
   ],
   "source": [
    "#List method - row wise info\n",
    "x=[['Abi','ba','ca'],['Vade','Pune',21],['Sundeep','Bly',45]]\n",
    "# x is list of lists\n",
    "x"
   ]
  },
  {
   "cell_type": "code",
   "execution_count": 150,
   "id": "1f11a4c4",
   "metadata": {},
   "outputs": [
    {
     "data": {
      "text/html": [
       "<div>\n",
       "<style scoped>\n",
       "    .dataframe tbody tr th:only-of-type {\n",
       "        vertical-align: middle;\n",
       "    }\n",
       "\n",
       "    .dataframe tbody tr th {\n",
       "        vertical-align: top;\n",
       "    }\n",
       "\n",
       "    .dataframe thead th {\n",
       "        text-align: right;\n",
       "    }\n",
       "</style>\n",
       "<table border=\"1\" class=\"dataframe\">\n",
       "  <thead>\n",
       "    <tr style=\"text-align: right;\">\n",
       "      <th></th>\n",
       "      <th>Name</th>\n",
       "      <th>Location</th>\n",
       "      <th>Age</th>\n",
       "    </tr>\n",
       "  </thead>\n",
       "  <tbody>\n",
       "    <tr>\n",
       "      <th>0</th>\n",
       "      <td>Abi</td>\n",
       "      <td>ba</td>\n",
       "      <td>ca</td>\n",
       "    </tr>\n",
       "    <tr>\n",
       "      <th>1</th>\n",
       "      <td>Vade</td>\n",
       "      <td>Pune</td>\n",
       "      <td>21</td>\n",
       "    </tr>\n",
       "    <tr>\n",
       "      <th>2</th>\n",
       "      <td>Sundeep</td>\n",
       "      <td>Bly</td>\n",
       "      <td>45</td>\n",
       "    </tr>\n",
       "  </tbody>\n",
       "</table>\n",
       "</div>"
      ],
      "text/plain": [
       "      Name Location Age\n",
       "0      Abi       ba  ca\n",
       "1     Vade     Pune  21\n",
       "2  Sundeep      Bly  45"
      ]
     },
     "execution_count": 150,
     "metadata": {},
     "output_type": "execute_result"
    }
   ],
   "source": [
    "# creating adf using list method\n",
    "df1=pd.DataFrame(x,columns=['Name','Location','Age'])\n",
    "df1"
   ]
  },
  {
   "cell_type": "code",
   "execution_count": 151,
   "id": "beff2d0e",
   "metadata": {},
   "outputs": [
    {
     "data": {
      "text/plain": [
       "{'player': ['Sachine', 'Virat', 'Dhoni'],\n",
       " 'Team': ['MI', 'RCB', 'Csk'],\n",
       " 'Score': [65, 78, 45]}"
      ]
     },
     "execution_count": 151,
     "metadata": {},
     "output_type": "execute_result"
    }
   ],
   "source": [
    "# Dictionary method- column wise info\n",
    "s={'player':['Sachine','Virat','Dhoni'],\n",
    "  'Team':['MI','RCB','Csk'],\n",
    "  'Score':[65,78,45]}\n",
    "#key value pairs-dict\n",
    "s"
   ]
  },
  {
   "cell_type": "code",
   "execution_count": 152,
   "id": "aa110e3c",
   "metadata": {},
   "outputs": [
    {
     "data": {
      "text/html": [
       "<div>\n",
       "<style scoped>\n",
       "    .dataframe tbody tr th:only-of-type {\n",
       "        vertical-align: middle;\n",
       "    }\n",
       "\n",
       "    .dataframe tbody tr th {\n",
       "        vertical-align: top;\n",
       "    }\n",
       "\n",
       "    .dataframe thead th {\n",
       "        text-align: right;\n",
       "    }\n",
       "</style>\n",
       "<table border=\"1\" class=\"dataframe\">\n",
       "  <thead>\n",
       "    <tr style=\"text-align: right;\">\n",
       "      <th></th>\n",
       "      <th>player</th>\n",
       "      <th>Team</th>\n",
       "      <th>Score</th>\n",
       "    </tr>\n",
       "  </thead>\n",
       "  <tbody>\n",
       "    <tr>\n",
       "      <th>0</th>\n",
       "      <td>Sachine</td>\n",
       "      <td>MI</td>\n",
       "      <td>65</td>\n",
       "    </tr>\n",
       "    <tr>\n",
       "      <th>1</th>\n",
       "      <td>Virat</td>\n",
       "      <td>RCB</td>\n",
       "      <td>78</td>\n",
       "    </tr>\n",
       "    <tr>\n",
       "      <th>2</th>\n",
       "      <td>Dhoni</td>\n",
       "      <td>Csk</td>\n",
       "      <td>45</td>\n",
       "    </tr>\n",
       "  </tbody>\n",
       "</table>\n",
       "</div>"
      ],
      "text/plain": [
       "    player Team  Score\n",
       "0  Sachine   MI     65\n",
       "1    Virat  RCB     78\n",
       "2    Dhoni  Csk     45"
      ]
     },
     "execution_count": 152,
     "metadata": {},
     "output_type": "execute_result"
    }
   ],
   "source": [
    "df2=pd.DataFrame(s)\n",
    "df2"
   ]
  },
  {
   "cell_type": "markdown",
   "id": "3ca35e55",
   "metadata": {},
   "source": [
    "# Importing an excel file in pandas"
   ]
  },
  {
   "cell_type": "code",
   "execution_count": 153,
   "id": "c6fc94d1",
   "metadata": {},
   "outputs": [],
   "source": [
    "import os"
   ]
  },
  {
   "cell_type": "code",
   "execution_count": 154,
   "id": "e8b4c60c",
   "metadata": {},
   "outputs": [
    {
     "data": {
      "text/plain": [
       "'C:\\\\Users\\\\ZS283MZ\\\\CDAC-Advanced_Statistical_Analysis'"
      ]
     },
     "execution_count": 154,
     "metadata": {},
     "output_type": "execute_result"
    }
   ],
   "source": [
    "os.getcwd()"
   ]
  },
  {
   "cell_type": "code",
   "execution_count": 155,
   "id": "99040f64",
   "metadata": {},
   "outputs": [],
   "source": [
    "df=pd.read_excel('ERPData.xlsx')"
   ]
  },
  {
   "cell_type": "code",
   "execution_count": 156,
   "id": "bd289b77",
   "metadata": {},
   "outputs": [
    {
     "data": {
      "text/html": [
       "<div>\n",
       "<style scoped>\n",
       "    .dataframe tbody tr th:only-of-type {\n",
       "        vertical-align: middle;\n",
       "    }\n",
       "\n",
       "    .dataframe tbody tr th {\n",
       "        vertical-align: top;\n",
       "    }\n",
       "\n",
       "    .dataframe thead th {\n",
       "        text-align: right;\n",
       "    }\n",
       "</style>\n",
       "<table border=\"1\" class=\"dataframe\">\n",
       "  <thead>\n",
       "    <tr style=\"text-align: right;\">\n",
       "      <th></th>\n",
       "      <th>MaterialID</th>\n",
       "      <th>Location</th>\n",
       "      <th>Quantity</th>\n",
       "    </tr>\n",
       "  </thead>\n",
       "  <tbody>\n",
       "    <tr>\n",
       "      <th>0</th>\n",
       "      <td>TMI-43T</td>\n",
       "      <td>MWH-4</td>\n",
       "      <td>34</td>\n",
       "    </tr>\n",
       "    <tr>\n",
       "      <th>1</th>\n",
       "      <td>AXCP-78</td>\n",
       "      <td>MWH-1</td>\n",
       "      <td>67</td>\n",
       "    </tr>\n",
       "    <tr>\n",
       "      <th>2</th>\n",
       "      <td>LXCV-21</td>\n",
       "      <td>MWH-2</td>\n",
       "      <td>27</td>\n",
       "    </tr>\n",
       "    <tr>\n",
       "      <th>3</th>\n",
       "      <td>AXCP-78</td>\n",
       "      <td>MWH-5</td>\n",
       "      <td>65</td>\n",
       "    </tr>\n",
       "    <tr>\n",
       "      <th>4</th>\n",
       "      <td>AXCP-78</td>\n",
       "      <td>MWH-4</td>\n",
       "      <td>36</td>\n",
       "    </tr>\n",
       "  </tbody>\n",
       "</table>\n",
       "</div>"
      ],
      "text/plain": [
       "  MaterialID Location  Quantity\n",
       "0    TMI-43T    MWH-4        34\n",
       "1    AXCP-78    MWH-1        67\n",
       "2    LXCV-21    MWH-2        27\n",
       "3    AXCP-78    MWH-5        65\n",
       "4    AXCP-78    MWH-4        36"
      ]
     },
     "execution_count": 156,
     "metadata": {},
     "output_type": "execute_result"
    }
   ],
   "source": [
    "df.head()"
   ]
  },
  {
   "cell_type": "code",
   "execution_count": 157,
   "id": "6272c98a",
   "metadata": {},
   "outputs": [
    {
     "data": {
      "text/plain": [
       "(50, 3)"
      ]
     },
     "execution_count": 157,
     "metadata": {},
     "output_type": "execute_result"
    }
   ],
   "source": [
    "df.shape"
   ]
  },
  {
   "cell_type": "code",
   "execution_count": 158,
   "id": "3235303f",
   "metadata": {},
   "outputs": [
    {
     "data": {
      "text/plain": [
       "50"
      ]
     },
     "execution_count": 158,
     "metadata": {},
     "output_type": "execute_result"
    }
   ],
   "source": [
    "df.shape[0] # no. of rows"
   ]
  },
  {
   "cell_type": "code",
   "execution_count": 159,
   "id": "6db205a4",
   "metadata": {},
   "outputs": [
    {
     "data": {
      "text/plain": [
       "3"
      ]
     },
     "execution_count": 159,
     "metadata": {},
     "output_type": "execute_result"
    }
   ],
   "source": [
    "df.shape[1]  # no. of column"
   ]
  },
  {
   "cell_type": "code",
   "execution_count": 160,
   "id": "a5e4b7c6",
   "metadata": {},
   "outputs": [
    {
     "data": {
      "text/html": [
       "<div>\n",
       "<style scoped>\n",
       "    .dataframe tbody tr th:only-of-type {\n",
       "        vertical-align: middle;\n",
       "    }\n",
       "\n",
       "    .dataframe tbody tr th {\n",
       "        vertical-align: top;\n",
       "    }\n",
       "\n",
       "    .dataframe thead th {\n",
       "        text-align: right;\n",
       "    }\n",
       "</style>\n",
       "<table border=\"1\" class=\"dataframe\">\n",
       "  <thead>\n",
       "    <tr style=\"text-align: right;\">\n",
       "      <th></th>\n",
       "      <th>Name</th>\n",
       "      <th>Location</th>\n",
       "      <th>Age</th>\n",
       "    </tr>\n",
       "  </thead>\n",
       "  <tbody>\n",
       "    <tr>\n",
       "      <th>0</th>\n",
       "      <td>Abi</td>\n",
       "      <td>ba</td>\n",
       "      <td>ca</td>\n",
       "    </tr>\n",
       "    <tr>\n",
       "      <th>1</th>\n",
       "      <td>Vade</td>\n",
       "      <td>Pune</td>\n",
       "      <td>21</td>\n",
       "    </tr>\n",
       "    <tr>\n",
       "      <th>2</th>\n",
       "      <td>Sundeep</td>\n",
       "      <td>Bly</td>\n",
       "      <td>45</td>\n",
       "    </tr>\n",
       "  </tbody>\n",
       "</table>\n",
       "</div>"
      ],
      "text/plain": [
       "      Name Location Age\n",
       "0      Abi       ba  ca\n",
       "1     Vade     Pune  21\n",
       "2  Sundeep      Bly  45"
      ]
     },
     "execution_count": 160,
     "metadata": {},
     "output_type": "execute_result"
    }
   ],
   "source": [
    "df1"
   ]
  },
  {
   "cell_type": "code",
   "execution_count": 161,
   "id": "fe63662e",
   "metadata": {},
   "outputs": [
    {
     "data": {
      "text/html": [
       "<div>\n",
       "<style scoped>\n",
       "    .dataframe tbody tr th:only-of-type {\n",
       "        vertical-align: middle;\n",
       "    }\n",
       "\n",
       "    .dataframe tbody tr th {\n",
       "        vertical-align: top;\n",
       "    }\n",
       "\n",
       "    .dataframe thead th {\n",
       "        text-align: right;\n",
       "    }\n",
       "</style>\n",
       "<table border=\"1\" class=\"dataframe\">\n",
       "  <thead>\n",
       "    <tr style=\"text-align: right;\">\n",
       "      <th></th>\n",
       "      <th>Name</th>\n",
       "      <th>Location</th>\n",
       "      <th>Age</th>\n",
       "    </tr>\n",
       "  </thead>\n",
       "  <tbody>\n",
       "    <tr>\n",
       "      <th>0</th>\n",
       "      <td>Ashwin</td>\n",
       "      <td>CHN</td>\n",
       "      <td>22</td>\n",
       "    </tr>\n",
       "    <tr>\n",
       "      <th>1</th>\n",
       "      <td>Ishan</td>\n",
       "      <td>Dli</td>\n",
       "      <td>24</td>\n",
       "    </tr>\n",
       "  </tbody>\n",
       "</table>\n",
       "</div>"
      ],
      "text/plain": [
       "     Name Location Age\n",
       "0  Ashwin      CHN  22\n",
       "1   Ishan      Dli  24"
      ]
     },
     "execution_count": 161,
     "metadata": {},
     "output_type": "execute_result"
    }
   ],
   "source": [
    "new_df=pd.DataFrame(data=[['Ashwin','CHN','22'],\n",
    "                         ['Ishan','Dli','24']],\n",
    "                   columns=df1.columns)\n",
    "new_df"
   ]
  },
  {
   "cell_type": "code",
   "execution_count": 162,
   "id": "b91cd25a",
   "metadata": {},
   "outputs": [
    {
     "name": "stderr",
     "output_type": "stream",
     "text": [
      "C:\\Users\\ZS283MZ\\AppData\\Local\\Temp\\ipykernel_17400\\2104900129.py:1: FutureWarning: The frame.append method is deprecated and will be removed from pandas in a future version. Use pandas.concat instead.\n",
      "  df1=df1.append(new_df)\n"
     ]
    },
    {
     "data": {
      "text/html": [
       "<div>\n",
       "<style scoped>\n",
       "    .dataframe tbody tr th:only-of-type {\n",
       "        vertical-align: middle;\n",
       "    }\n",
       "\n",
       "    .dataframe tbody tr th {\n",
       "        vertical-align: top;\n",
       "    }\n",
       "\n",
       "    .dataframe thead th {\n",
       "        text-align: right;\n",
       "    }\n",
       "</style>\n",
       "<table border=\"1\" class=\"dataframe\">\n",
       "  <thead>\n",
       "    <tr style=\"text-align: right;\">\n",
       "      <th></th>\n",
       "      <th>Name</th>\n",
       "      <th>Location</th>\n",
       "      <th>Age</th>\n",
       "    </tr>\n",
       "  </thead>\n",
       "  <tbody>\n",
       "    <tr>\n",
       "      <th>0</th>\n",
       "      <td>Abi</td>\n",
       "      <td>ba</td>\n",
       "      <td>ca</td>\n",
       "    </tr>\n",
       "    <tr>\n",
       "      <th>1</th>\n",
       "      <td>Vade</td>\n",
       "      <td>Pune</td>\n",
       "      <td>21</td>\n",
       "    </tr>\n",
       "    <tr>\n",
       "      <th>2</th>\n",
       "      <td>Sundeep</td>\n",
       "      <td>Bly</td>\n",
       "      <td>45</td>\n",
       "    </tr>\n",
       "    <tr>\n",
       "      <th>0</th>\n",
       "      <td>Ashwin</td>\n",
       "      <td>CHN</td>\n",
       "      <td>22</td>\n",
       "    </tr>\n",
       "    <tr>\n",
       "      <th>1</th>\n",
       "      <td>Ishan</td>\n",
       "      <td>Dli</td>\n",
       "      <td>24</td>\n",
       "    </tr>\n",
       "  </tbody>\n",
       "</table>\n",
       "</div>"
      ],
      "text/plain": [
       "      Name Location Age\n",
       "0      Abi       ba  ca\n",
       "1     Vade     Pune  21\n",
       "2  Sundeep      Bly  45\n",
       "0   Ashwin      CHN  22\n",
       "1    Ishan      Dli  24"
      ]
     },
     "execution_count": 162,
     "metadata": {},
     "output_type": "execute_result"
    }
   ],
   "source": [
    "df1=df1.append(new_df)\n",
    "df1"
   ]
  },
  {
   "cell_type": "code",
   "execution_count": 163,
   "id": "19f490fe",
   "metadata": {},
   "outputs": [],
   "source": [
    "# the index are made in order hence to reindex"
   ]
  },
  {
   "cell_type": "code",
   "execution_count": 164,
   "id": "991c719c",
   "metadata": {},
   "outputs": [
    {
     "data": {
      "text/html": [
       "<div>\n",
       "<style scoped>\n",
       "    .dataframe tbody tr th:only-of-type {\n",
       "        vertical-align: middle;\n",
       "    }\n",
       "\n",
       "    .dataframe tbody tr th {\n",
       "        vertical-align: top;\n",
       "    }\n",
       "\n",
       "    .dataframe thead th {\n",
       "        text-align: right;\n",
       "    }\n",
       "</style>\n",
       "<table border=\"1\" class=\"dataframe\">\n",
       "  <thead>\n",
       "    <tr style=\"text-align: right;\">\n",
       "      <th></th>\n",
       "      <th>Name</th>\n",
       "      <th>Location</th>\n",
       "      <th>Age</th>\n",
       "    </tr>\n",
       "  </thead>\n",
       "  <tbody>\n",
       "    <tr>\n",
       "      <th>0</th>\n",
       "      <td>Abi</td>\n",
       "      <td>ba</td>\n",
       "      <td>ca</td>\n",
       "    </tr>\n",
       "    <tr>\n",
       "      <th>1</th>\n",
       "      <td>Vade</td>\n",
       "      <td>Pune</td>\n",
       "      <td>21</td>\n",
       "    </tr>\n",
       "    <tr>\n",
       "      <th>2</th>\n",
       "      <td>Sundeep</td>\n",
       "      <td>Bly</td>\n",
       "      <td>45</td>\n",
       "    </tr>\n",
       "    <tr>\n",
       "      <th>3</th>\n",
       "      <td>Ashwin</td>\n",
       "      <td>CHN</td>\n",
       "      <td>22</td>\n",
       "    </tr>\n",
       "    <tr>\n",
       "      <th>4</th>\n",
       "      <td>Ishan</td>\n",
       "      <td>Dli</td>\n",
       "      <td>24</td>\n",
       "    </tr>\n",
       "  </tbody>\n",
       "</table>\n",
       "</div>"
      ],
      "text/plain": [
       "      Name Location Age\n",
       "0      Abi       ba  ca\n",
       "1     Vade     Pune  21\n",
       "2  Sundeep      Bly  45\n",
       "3   Ashwin      CHN  22\n",
       "4    Ishan      Dli  24"
      ]
     },
     "execution_count": 164,
     "metadata": {},
     "output_type": "execute_result"
    }
   ],
   "source": [
    "#to do the reindexing\n",
    "df1.index=range(df1.shape[0])\n",
    "df1"
   ]
  },
  {
   "cell_type": "code",
   "execution_count": 165,
   "id": "36bd7646",
   "metadata": {},
   "outputs": [],
   "source": [
    "X=['A','B','C','A','B']"
   ]
  },
  {
   "cell_type": "code",
   "execution_count": 166,
   "id": "b6646c6c",
   "metadata": {},
   "outputs": [
    {
     "data": {
      "text/html": [
       "<div>\n",
       "<style scoped>\n",
       "    .dataframe tbody tr th:only-of-type {\n",
       "        vertical-align: middle;\n",
       "    }\n",
       "\n",
       "    .dataframe tbody tr th {\n",
       "        vertical-align: top;\n",
       "    }\n",
       "\n",
       "    .dataframe thead th {\n",
       "        text-align: right;\n",
       "    }\n",
       "</style>\n",
       "<table border=\"1\" class=\"dataframe\">\n",
       "  <thead>\n",
       "    <tr style=\"text-align: right;\">\n",
       "      <th></th>\n",
       "      <th>Name</th>\n",
       "      <th>Location</th>\n",
       "      <th>Age</th>\n",
       "      <th>Grades</th>\n",
       "    </tr>\n",
       "  </thead>\n",
       "  <tbody>\n",
       "    <tr>\n",
       "      <th>0</th>\n",
       "      <td>Abi</td>\n",
       "      <td>ba</td>\n",
       "      <td>ca</td>\n",
       "      <td>A</td>\n",
       "    </tr>\n",
       "    <tr>\n",
       "      <th>1</th>\n",
       "      <td>Vade</td>\n",
       "      <td>Pune</td>\n",
       "      <td>21</td>\n",
       "      <td>B</td>\n",
       "    </tr>\n",
       "    <tr>\n",
       "      <th>2</th>\n",
       "      <td>Sundeep</td>\n",
       "      <td>Bly</td>\n",
       "      <td>45</td>\n",
       "      <td>C</td>\n",
       "    </tr>\n",
       "    <tr>\n",
       "      <th>3</th>\n",
       "      <td>Ashwin</td>\n",
       "      <td>CHN</td>\n",
       "      <td>22</td>\n",
       "      <td>A</td>\n",
       "    </tr>\n",
       "    <tr>\n",
       "      <th>4</th>\n",
       "      <td>Ishan</td>\n",
       "      <td>Dli</td>\n",
       "      <td>24</td>\n",
       "      <td>B</td>\n",
       "    </tr>\n",
       "  </tbody>\n",
       "</table>\n",
       "</div>"
      ],
      "text/plain": [
       "      Name Location Age Grades\n",
       "0      Abi       ba  ca      A\n",
       "1     Vade     Pune  21      B\n",
       "2  Sundeep      Bly  45      C\n",
       "3   Ashwin      CHN  22      A\n",
       "4    Ishan      Dli  24      B"
      ]
     },
     "execution_count": 166,
     "metadata": {},
     "output_type": "execute_result"
    }
   ],
   "source": [
    "df1['Grades']=X\n",
    "df1"
   ]
  },
  {
   "cell_type": "code",
   "execution_count": 167,
   "id": "7e9dc5d1",
   "metadata": {},
   "outputs": [
    {
     "data": {
      "text/html": [
       "<div>\n",
       "<style scoped>\n",
       "    .dataframe tbody tr th:only-of-type {\n",
       "        vertical-align: middle;\n",
       "    }\n",
       "\n",
       "    .dataframe tbody tr th {\n",
       "        vertical-align: top;\n",
       "    }\n",
       "\n",
       "    .dataframe thead th {\n",
       "        text-align: right;\n",
       "    }\n",
       "</style>\n",
       "<table border=\"1\" class=\"dataframe\">\n",
       "  <thead>\n",
       "    <tr style=\"text-align: right;\">\n",
       "      <th></th>\n",
       "      <th>Name</th>\n",
       "      <th>Location</th>\n",
       "      <th>Grades</th>\n",
       "    </tr>\n",
       "  </thead>\n",
       "  <tbody>\n",
       "    <tr>\n",
       "      <th>0</th>\n",
       "      <td>Abi</td>\n",
       "      <td>ba</td>\n",
       "      <td>A</td>\n",
       "    </tr>\n",
       "    <tr>\n",
       "      <th>1</th>\n",
       "      <td>Vade</td>\n",
       "      <td>Pune</td>\n",
       "      <td>B</td>\n",
       "    </tr>\n",
       "    <tr>\n",
       "      <th>2</th>\n",
       "      <td>Sundeep</td>\n",
       "      <td>Bly</td>\n",
       "      <td>C</td>\n",
       "    </tr>\n",
       "    <tr>\n",
       "      <th>3</th>\n",
       "      <td>Ashwin</td>\n",
       "      <td>CHN</td>\n",
       "      <td>A</td>\n",
       "    </tr>\n",
       "    <tr>\n",
       "      <th>4</th>\n",
       "      <td>Ishan</td>\n",
       "      <td>Dli</td>\n",
       "      <td>B</td>\n",
       "    </tr>\n",
       "  </tbody>\n",
       "</table>\n",
       "</div>"
      ],
      "text/plain": [
       "      Name Location Grades\n",
       "0      Abi       ba      A\n",
       "1     Vade     Pune      B\n",
       "2  Sundeep      Bly      C\n",
       "3   Ashwin      CHN      A\n",
       "4    Ishan      Dli      B"
      ]
     },
     "execution_count": 167,
     "metadata": {},
     "output_type": "execute_result"
    }
   ],
   "source": [
    "df1.drop('Age',axis=1)\n",
    "#to temporarily delete a column from dataframe"
   ]
  },
  {
   "cell_type": "code",
   "execution_count": 168,
   "id": "e6c03c9a",
   "metadata": {},
   "outputs": [
    {
     "data": {
      "text/html": [
       "<div>\n",
       "<style scoped>\n",
       "    .dataframe tbody tr th:only-of-type {\n",
       "        vertical-align: middle;\n",
       "    }\n",
       "\n",
       "    .dataframe tbody tr th {\n",
       "        vertical-align: top;\n",
       "    }\n",
       "\n",
       "    .dataframe thead th {\n",
       "        text-align: right;\n",
       "    }\n",
       "</style>\n",
       "<table border=\"1\" class=\"dataframe\">\n",
       "  <thead>\n",
       "    <tr style=\"text-align: right;\">\n",
       "      <th></th>\n",
       "      <th>Name</th>\n",
       "      <th>Location</th>\n",
       "      <th>Age</th>\n",
       "      <th>Grades</th>\n",
       "    </tr>\n",
       "  </thead>\n",
       "  <tbody>\n",
       "    <tr>\n",
       "      <th>0</th>\n",
       "      <td>Abi</td>\n",
       "      <td>ba</td>\n",
       "      <td>ca</td>\n",
       "      <td>A</td>\n",
       "    </tr>\n",
       "    <tr>\n",
       "      <th>1</th>\n",
       "      <td>Vade</td>\n",
       "      <td>Pune</td>\n",
       "      <td>21</td>\n",
       "      <td>B</td>\n",
       "    </tr>\n",
       "    <tr>\n",
       "      <th>2</th>\n",
       "      <td>Sundeep</td>\n",
       "      <td>Bly</td>\n",
       "      <td>45</td>\n",
       "      <td>C</td>\n",
       "    </tr>\n",
       "    <tr>\n",
       "      <th>3</th>\n",
       "      <td>Ashwin</td>\n",
       "      <td>CHN</td>\n",
       "      <td>22</td>\n",
       "      <td>A</td>\n",
       "    </tr>\n",
       "    <tr>\n",
       "      <th>4</th>\n",
       "      <td>Ishan</td>\n",
       "      <td>Dli</td>\n",
       "      <td>24</td>\n",
       "      <td>B</td>\n",
       "    </tr>\n",
       "  </tbody>\n",
       "</table>\n",
       "</div>"
      ],
      "text/plain": [
       "      Name Location Age Grades\n",
       "0      Abi       ba  ca      A\n",
       "1     Vade     Pune  21      B\n",
       "2  Sundeep      Bly  45      C\n",
       "3   Ashwin      CHN  22      A\n",
       "4    Ishan      Dli  24      B"
      ]
     },
     "execution_count": 168,
     "metadata": {},
     "output_type": "execute_result"
    }
   ],
   "source": [
    "df1"
   ]
  },
  {
   "cell_type": "code",
   "execution_count": 169,
   "id": "a8656c6a",
   "metadata": {},
   "outputs": [
    {
     "data": {
      "text/html": [
       "<div>\n",
       "<style scoped>\n",
       "    .dataframe tbody tr th:only-of-type {\n",
       "        vertical-align: middle;\n",
       "    }\n",
       "\n",
       "    .dataframe tbody tr th {\n",
       "        vertical-align: top;\n",
       "    }\n",
       "\n",
       "    .dataframe thead th {\n",
       "        text-align: right;\n",
       "    }\n",
       "</style>\n",
       "<table border=\"1\" class=\"dataframe\">\n",
       "  <thead>\n",
       "    <tr style=\"text-align: right;\">\n",
       "      <th></th>\n",
       "      <th>Name</th>\n",
       "      <th>Grades</th>\n",
       "    </tr>\n",
       "  </thead>\n",
       "  <tbody>\n",
       "    <tr>\n",
       "      <th>0</th>\n",
       "      <td>Abi</td>\n",
       "      <td>A</td>\n",
       "    </tr>\n",
       "    <tr>\n",
       "      <th>1</th>\n",
       "      <td>Vade</td>\n",
       "      <td>B</td>\n",
       "    </tr>\n",
       "    <tr>\n",
       "      <th>2</th>\n",
       "      <td>Sundeep</td>\n",
       "      <td>C</td>\n",
       "    </tr>\n",
       "    <tr>\n",
       "      <th>3</th>\n",
       "      <td>Ashwin</td>\n",
       "      <td>A</td>\n",
       "    </tr>\n",
       "    <tr>\n",
       "      <th>4</th>\n",
       "      <td>Ishan</td>\n",
       "      <td>B</td>\n",
       "    </tr>\n",
       "  </tbody>\n",
       "</table>\n",
       "</div>"
      ],
      "text/plain": [
       "      Name Grades\n",
       "0      Abi      A\n",
       "1     Vade      B\n",
       "2  Sundeep      C\n",
       "3   Ashwin      A\n",
       "4    Ishan      B"
      ]
     },
     "execution_count": 169,
     "metadata": {},
     "output_type": "execute_result"
    }
   ],
   "source": [
    "df1.drop(['Location','Age'],axis=1) # to drop more than 1 column"
   ]
  },
  {
   "cell_type": "code",
   "execution_count": 170,
   "id": "114e5eae",
   "metadata": {},
   "outputs": [
    {
     "data": {
      "text/html": [
       "<div>\n",
       "<style scoped>\n",
       "    .dataframe tbody tr th:only-of-type {\n",
       "        vertical-align: middle;\n",
       "    }\n",
       "\n",
       "    .dataframe tbody tr th {\n",
       "        vertical-align: top;\n",
       "    }\n",
       "\n",
       "    .dataframe thead th {\n",
       "        text-align: right;\n",
       "    }\n",
       "</style>\n",
       "<table border=\"1\" class=\"dataframe\">\n",
       "  <thead>\n",
       "    <tr style=\"text-align: right;\">\n",
       "      <th></th>\n",
       "      <th>Name</th>\n",
       "      <th>Location</th>\n",
       "      <th>Age</th>\n",
       "      <th>Grades</th>\n",
       "    </tr>\n",
       "  </thead>\n",
       "  <tbody>\n",
       "    <tr>\n",
       "      <th>0</th>\n",
       "      <td>Abi</td>\n",
       "      <td>ba</td>\n",
       "      <td>ca</td>\n",
       "      <td>A</td>\n",
       "    </tr>\n",
       "    <tr>\n",
       "      <th>1</th>\n",
       "      <td>Vade</td>\n",
       "      <td>Pune</td>\n",
       "      <td>21</td>\n",
       "      <td>B</td>\n",
       "    </tr>\n",
       "    <tr>\n",
       "      <th>2</th>\n",
       "      <td>Sundeep</td>\n",
       "      <td>Bly</td>\n",
       "      <td>45</td>\n",
       "      <td>C</td>\n",
       "    </tr>\n",
       "    <tr>\n",
       "      <th>3</th>\n",
       "      <td>Ashwin</td>\n",
       "      <td>CHN</td>\n",
       "      <td>22</td>\n",
       "      <td>A</td>\n",
       "    </tr>\n",
       "    <tr>\n",
       "      <th>4</th>\n",
       "      <td>Ishan</td>\n",
       "      <td>Dli</td>\n",
       "      <td>24</td>\n",
       "      <td>B</td>\n",
       "    </tr>\n",
       "  </tbody>\n",
       "</table>\n",
       "</div>"
      ],
      "text/plain": [
       "      Name Location Age Grades\n",
       "0      Abi       ba  ca      A\n",
       "1     Vade     Pune  21      B\n",
       "2  Sundeep      Bly  45      C\n",
       "3   Ashwin      CHN  22      A\n",
       "4    Ishan      Dli  24      B"
      ]
     },
     "execution_count": 170,
     "metadata": {},
     "output_type": "execute_result"
    }
   ],
   "source": [
    "df1"
   ]
  },
  {
   "cell_type": "code",
   "execution_count": 171,
   "id": "c5fc68ec",
   "metadata": {},
   "outputs": [
    {
     "data": {
      "text/html": [
       "<div>\n",
       "<style scoped>\n",
       "    .dataframe tbody tr th:only-of-type {\n",
       "        vertical-align: middle;\n",
       "    }\n",
       "\n",
       "    .dataframe tbody tr th {\n",
       "        vertical-align: top;\n",
       "    }\n",
       "\n",
       "    .dataframe thead th {\n",
       "        text-align: right;\n",
       "    }\n",
       "</style>\n",
       "<table border=\"1\" class=\"dataframe\">\n",
       "  <thead>\n",
       "    <tr style=\"text-align: right;\">\n",
       "      <th></th>\n",
       "      <th>Name</th>\n",
       "      <th>Location</th>\n",
       "      <th>Age</th>\n",
       "      <th>Grades</th>\n",
       "    </tr>\n",
       "  </thead>\n",
       "  <tbody>\n",
       "    <tr>\n",
       "      <th>0</th>\n",
       "      <td>Abi</td>\n",
       "      <td>ba</td>\n",
       "      <td>ca</td>\n",
       "      <td>A</td>\n",
       "    </tr>\n",
       "    <tr>\n",
       "      <th>2</th>\n",
       "      <td>Sundeep</td>\n",
       "      <td>Bly</td>\n",
       "      <td>45</td>\n",
       "      <td>C</td>\n",
       "    </tr>\n",
       "    <tr>\n",
       "      <th>4</th>\n",
       "      <td>Ishan</td>\n",
       "      <td>Dli</td>\n",
       "      <td>24</td>\n",
       "      <td>B</td>\n",
       "    </tr>\n",
       "  </tbody>\n",
       "</table>\n",
       "</div>"
      ],
      "text/plain": [
       "      Name Location Age Grades\n",
       "0      Abi       ba  ca      A\n",
       "2  Sundeep      Bly  45      C\n",
       "4    Ishan      Dli  24      B"
      ]
     },
     "execution_count": 171,
     "metadata": {},
     "output_type": "execute_result"
    }
   ],
   "source": [
    "df1.drop([1,3],axis=0)"
   ]
  },
  {
   "cell_type": "code",
   "execution_count": 172,
   "id": "9b536df8",
   "metadata": {},
   "outputs": [
    {
     "data": {
      "text/html": [
       "<div>\n",
       "<style scoped>\n",
       "    .dataframe tbody tr th:only-of-type {\n",
       "        vertical-align: middle;\n",
       "    }\n",
       "\n",
       "    .dataframe tbody tr th {\n",
       "        vertical-align: top;\n",
       "    }\n",
       "\n",
       "    .dataframe thead th {\n",
       "        text-align: right;\n",
       "    }\n",
       "</style>\n",
       "<table border=\"1\" class=\"dataframe\">\n",
       "  <thead>\n",
       "    <tr style=\"text-align: right;\">\n",
       "      <th></th>\n",
       "      <th>Name</th>\n",
       "      <th>Location</th>\n",
       "      <th>Age</th>\n",
       "      <th>Grades</th>\n",
       "    </tr>\n",
       "  </thead>\n",
       "  <tbody>\n",
       "    <tr>\n",
       "      <th>0</th>\n",
       "      <td>Abi</td>\n",
       "      <td>ba</td>\n",
       "      <td>ca</td>\n",
       "      <td>A</td>\n",
       "    </tr>\n",
       "    <tr>\n",
       "      <th>2</th>\n",
       "      <td>Sundeep</td>\n",
       "      <td>Bly</td>\n",
       "      <td>45</td>\n",
       "      <td>C</td>\n",
       "    </tr>\n",
       "    <tr>\n",
       "      <th>4</th>\n",
       "      <td>Ishan</td>\n",
       "      <td>Dli</td>\n",
       "      <td>24</td>\n",
       "      <td>B</td>\n",
       "    </tr>\n",
       "  </tbody>\n",
       "</table>\n",
       "</div>"
      ],
      "text/plain": [
       "      Name Location Age Grades\n",
       "0      Abi       ba  ca      A\n",
       "2  Sundeep      Bly  45      C\n",
       "4    Ishan      Dli  24      B"
      ]
     },
     "execution_count": 172,
     "metadata": {},
     "output_type": "execute_result"
    }
   ],
   "source": [
    "df1.drop([1,3])  # axis=0 is default value"
   ]
  },
  {
   "cell_type": "code",
   "execution_count": 173,
   "id": "047843ba",
   "metadata": {},
   "outputs": [
    {
     "data": {
      "text/html": [
       "<div>\n",
       "<style scoped>\n",
       "    .dataframe tbody tr th:only-of-type {\n",
       "        vertical-align: middle;\n",
       "    }\n",
       "\n",
       "    .dataframe tbody tr th {\n",
       "        vertical-align: top;\n",
       "    }\n",
       "\n",
       "    .dataframe thead th {\n",
       "        text-align: right;\n",
       "    }\n",
       "</style>\n",
       "<table border=\"1\" class=\"dataframe\">\n",
       "  <thead>\n",
       "    <tr style=\"text-align: right;\">\n",
       "      <th></th>\n",
       "      <th>Name</th>\n",
       "      <th>Location</th>\n",
       "      <th>Age</th>\n",
       "      <th>Grades</th>\n",
       "    </tr>\n",
       "  </thead>\n",
       "  <tbody>\n",
       "    <tr>\n",
       "      <th>0</th>\n",
       "      <td>Abi</td>\n",
       "      <td>ba</td>\n",
       "      <td>ca</td>\n",
       "      <td>A</td>\n",
       "    </tr>\n",
       "    <tr>\n",
       "      <th>1</th>\n",
       "      <td>Vade</td>\n",
       "      <td>Pune</td>\n",
       "      <td>21</td>\n",
       "      <td>B</td>\n",
       "    </tr>\n",
       "    <tr>\n",
       "      <th>2</th>\n",
       "      <td>Sundeep</td>\n",
       "      <td>Bly</td>\n",
       "      <td>45</td>\n",
       "      <td>C</td>\n",
       "    </tr>\n",
       "    <tr>\n",
       "      <th>3</th>\n",
       "      <td>Ashwin</td>\n",
       "      <td>CHN</td>\n",
       "      <td>22</td>\n",
       "      <td>A</td>\n",
       "    </tr>\n",
       "    <tr>\n",
       "      <th>4</th>\n",
       "      <td>Ishan</td>\n",
       "      <td>Dli</td>\n",
       "      <td>24</td>\n",
       "      <td>B</td>\n",
       "    </tr>\n",
       "  </tbody>\n",
       "</table>\n",
       "</div>"
      ],
      "text/plain": [
       "      Name Location Age Grades\n",
       "0      Abi       ba  ca      A\n",
       "1     Vade     Pune  21      B\n",
       "2  Sundeep      Bly  45      C\n",
       "3   Ashwin      CHN  22      A\n",
       "4    Ishan      Dli  24      B"
      ]
     },
     "execution_count": 173,
     "metadata": {},
     "output_type": "execute_result"
    }
   ],
   "source": [
    "df1.head()"
   ]
  },
  {
   "cell_type": "code",
   "execution_count": 174,
   "id": "a8e0df05",
   "metadata": {},
   "outputs": [
    {
     "data": {
      "text/plain": [
       "0      34\n",
       "1      67\n",
       "2      27\n",
       "3      65\n",
       "4      36\n",
       "5      78\n",
       "6      31\n",
       "7      29\n",
       "8      10\n",
       "9     120\n",
       "10     34\n",
       "11     58\n",
       "12     76\n",
       "13     32\n",
       "14     65\n",
       "15     87\n",
       "16     12\n",
       "17    102\n",
       "18     34\n",
       "19     52\n",
       "20     39\n",
       "21     75\n",
       "22     48\n",
       "23     71\n",
       "24    152\n",
       "25    109\n",
       "26     57\n",
       "27     83\n",
       "28     34\n",
       "29     57\n",
       "30     27\n",
       "31     65\n",
       "32     43\n",
       "33    112\n",
       "34     26\n",
       "35     31\n",
       "36     28\n",
       "37     65\n",
       "38     70\n",
       "39    145\n",
       "40     34\n",
       "41     57\n",
       "42     31\n",
       "43     38\n",
       "44     42\n",
       "45     69\n",
       "46     85\n",
       "47     29\n",
       "48     75\n",
       "49     39\n",
       "Name: Quantity, dtype: int64"
      ]
     },
     "execution_count": 174,
     "metadata": {},
     "output_type": "execute_result"
    }
   ],
   "source": [
    "df['Quantity']\n",
    "# we canuse df.Quantity"
   ]
  },
  {
   "cell_type": "code",
   "execution_count": 176,
   "id": "1c8abe0d",
   "metadata": {},
   "outputs": [
    {
     "data": {
      "text/plain": [
       "0      34\n",
       "1      67\n",
       "2      27\n",
       "3      65\n",
       "4      36\n",
       "5      78\n",
       "6      31\n",
       "7      29\n",
       "8      10\n",
       "9     120\n",
       "10     34\n",
       "11     58\n",
       "12     76\n",
       "13     32\n",
       "14     65\n",
       "15     87\n",
       "16     12\n",
       "17    102\n",
       "18     34\n",
       "19     52\n",
       "20     39\n",
       "21     75\n",
       "22     48\n",
       "23     71\n",
       "24    152\n",
       "25    109\n",
       "26     57\n",
       "27     83\n",
       "28     34\n",
       "29     57\n",
       "30     27\n",
       "31     65\n",
       "32     43\n",
       "33    112\n",
       "34     26\n",
       "35     31\n",
       "36     28\n",
       "37     65\n",
       "38     70\n",
       "39    145\n",
       "40     34\n",
       "41     57\n",
       "42     31\n",
       "43     38\n",
       "44     42\n",
       "45     69\n",
       "46     85\n",
       "47     29\n",
       "48     75\n",
       "49     39\n",
       "Name: Quantity, dtype: int64"
      ]
     },
     "execution_count": 176,
     "metadata": {},
     "output_type": "execute_result"
    }
   ],
   "source": [
    "df.Quantity"
   ]
  },
  {
   "cell_type": "code",
   "execution_count": 177,
   "id": "34e76dac",
   "metadata": {},
   "outputs": [],
   "source": [
    "ind=np.where(df.Quantity<=50)"
   ]
  },
  {
   "cell_type": "code",
   "execution_count": 180,
   "id": "aa3eadca",
   "metadata": {},
   "outputs": [
    {
     "data": {
      "text/plain": [
       "(array([ 0,  2,  4,  6,  7,  8, 10, 13, 16, 18, 20, 22, 28, 30, 32, 34, 35,\n",
       "        36, 40, 42, 43, 44, 47, 49], dtype=int64),)"
      ]
     },
     "execution_count": 180,
     "metadata": {},
     "output_type": "execute_result"
    }
   ],
   "source": [
    "ind"
   ]
  },
  {
   "cell_type": "code",
   "execution_count": 181,
   "id": "307e49fd",
   "metadata": {},
   "outputs": [],
   "source": [
    "scrap=df.iloc[ind]"
   ]
  },
  {
   "cell_type": "code",
   "execution_count": 182,
   "id": "28832e0f",
   "metadata": {},
   "outputs": [
    {
     "data": {
      "text/html": [
       "<div>\n",
       "<style scoped>\n",
       "    .dataframe tbody tr th:only-of-type {\n",
       "        vertical-align: middle;\n",
       "    }\n",
       "\n",
       "    .dataframe tbody tr th {\n",
       "        vertical-align: top;\n",
       "    }\n",
       "\n",
       "    .dataframe thead th {\n",
       "        text-align: right;\n",
       "    }\n",
       "</style>\n",
       "<table border=\"1\" class=\"dataframe\">\n",
       "  <thead>\n",
       "    <tr style=\"text-align: right;\">\n",
       "      <th></th>\n",
       "      <th>MaterialID</th>\n",
       "      <th>Location</th>\n",
       "      <th>Quantity</th>\n",
       "    </tr>\n",
       "  </thead>\n",
       "  <tbody>\n",
       "    <tr>\n",
       "      <th>0</th>\n",
       "      <td>TMI-43T</td>\n",
       "      <td>MWH-4</td>\n",
       "      <td>34</td>\n",
       "    </tr>\n",
       "    <tr>\n",
       "      <th>2</th>\n",
       "      <td>LXCV-21</td>\n",
       "      <td>MWH-2</td>\n",
       "      <td>27</td>\n",
       "    </tr>\n",
       "    <tr>\n",
       "      <th>4</th>\n",
       "      <td>AXCP-78</td>\n",
       "      <td>MWH-4</td>\n",
       "      <td>36</td>\n",
       "    </tr>\n",
       "    <tr>\n",
       "      <th>6</th>\n",
       "      <td>TMI-43T</td>\n",
       "      <td>MWH-4</td>\n",
       "      <td>31</td>\n",
       "    </tr>\n",
       "    <tr>\n",
       "      <th>7</th>\n",
       "      <td>TMI-43T</td>\n",
       "      <td>MWH-2</td>\n",
       "      <td>29</td>\n",
       "    </tr>\n",
       "  </tbody>\n",
       "</table>\n",
       "</div>"
      ],
      "text/plain": [
       "  MaterialID Location  Quantity\n",
       "0    TMI-43T    MWH-4        34\n",
       "2    LXCV-21    MWH-2        27\n",
       "4    AXCP-78    MWH-4        36\n",
       "6    TMI-43T    MWH-4        31\n",
       "7    TMI-43T    MWH-2        29"
      ]
     },
     "execution_count": 182,
     "metadata": {},
     "output_type": "execute_result"
    }
   ],
   "source": [
    "scrap.head()"
   ]
  },
  {
   "cell_type": "code",
   "execution_count": 183,
   "id": "8591aff8",
   "metadata": {},
   "outputs": [
    {
     "data": {
      "text/plain": [
       "(24, 3)"
      ]
     },
     "execution_count": 183,
     "metadata": {},
     "output_type": "execute_result"
    }
   ],
   "source": [
    "scrap.shape"
   ]
  },
  {
   "cell_type": "markdown",
   "id": "47cd7a22",
   "metadata": {},
   "source": [
    "# Multiple Condition"
   ]
  },
  {
   "cell_type": "code",
   "execution_count": 184,
   "id": "1d34d558",
   "metadata": {},
   "outputs": [
    {
     "data": {
      "text/html": [
       "<div>\n",
       "<style scoped>\n",
       "    .dataframe tbody tr th:only-of-type {\n",
       "        vertical-align: middle;\n",
       "    }\n",
       "\n",
       "    .dataframe tbody tr th {\n",
       "        vertical-align: top;\n",
       "    }\n",
       "\n",
       "    .dataframe thead th {\n",
       "        text-align: right;\n",
       "    }\n",
       "</style>\n",
       "<table border=\"1\" class=\"dataframe\">\n",
       "  <thead>\n",
       "    <tr style=\"text-align: right;\">\n",
       "      <th></th>\n",
       "      <th>MaterialID</th>\n",
       "      <th>Location</th>\n",
       "      <th>Quantity</th>\n",
       "    </tr>\n",
       "  </thead>\n",
       "  <tbody>\n",
       "    <tr>\n",
       "      <th>0</th>\n",
       "      <td>TMI-43T</td>\n",
       "      <td>MWH-4</td>\n",
       "      <td>34</td>\n",
       "    </tr>\n",
       "    <tr>\n",
       "      <th>1</th>\n",
       "      <td>AXCP-78</td>\n",
       "      <td>MWH-1</td>\n",
       "      <td>67</td>\n",
       "    </tr>\n",
       "    <tr>\n",
       "      <th>2</th>\n",
       "      <td>LXCV-21</td>\n",
       "      <td>MWH-2</td>\n",
       "      <td>27</td>\n",
       "    </tr>\n",
       "    <tr>\n",
       "      <th>3</th>\n",
       "      <td>AXCP-78</td>\n",
       "      <td>MWH-5</td>\n",
       "      <td>65</td>\n",
       "    </tr>\n",
       "    <tr>\n",
       "      <th>4</th>\n",
       "      <td>AXCP-78</td>\n",
       "      <td>MWH-4</td>\n",
       "      <td>36</td>\n",
       "    </tr>\n",
       "  </tbody>\n",
       "</table>\n",
       "</div>"
      ],
      "text/plain": [
       "  MaterialID Location  Quantity\n",
       "0    TMI-43T    MWH-4        34\n",
       "1    AXCP-78    MWH-1        67\n",
       "2    LXCV-21    MWH-2        27\n",
       "3    AXCP-78    MWH-5        65\n",
       "4    AXCP-78    MWH-4        36"
      ]
     },
     "execution_count": 184,
     "metadata": {},
     "output_type": "execute_result"
    }
   ],
   "source": [
    "df.head()"
   ]
  },
  {
   "cell_type": "code",
   "execution_count": 185,
   "id": "c3a9ce20",
   "metadata": {},
   "outputs": [],
   "source": [
    "ind=np.where((df.Location=='MWH-2') & (df.Quantity<=50))"
   ]
  },
  {
   "cell_type": "code",
   "execution_count": 186,
   "id": "42095a7d",
   "metadata": {},
   "outputs": [],
   "source": [
    "mydf=df.iloc[ind]"
   ]
  },
  {
   "cell_type": "code",
   "execution_count": 187,
   "id": "e9732e65",
   "metadata": {},
   "outputs": [
    {
     "data": {
      "text/html": [
       "<div>\n",
       "<style scoped>\n",
       "    .dataframe tbody tr th:only-of-type {\n",
       "        vertical-align: middle;\n",
       "    }\n",
       "\n",
       "    .dataframe tbody tr th {\n",
       "        vertical-align: top;\n",
       "    }\n",
       "\n",
       "    .dataframe thead th {\n",
       "        text-align: right;\n",
       "    }\n",
       "</style>\n",
       "<table border=\"1\" class=\"dataframe\">\n",
       "  <thead>\n",
       "    <tr style=\"text-align: right;\">\n",
       "      <th></th>\n",
       "      <th>MaterialID</th>\n",
       "      <th>Location</th>\n",
       "      <th>Quantity</th>\n",
       "    </tr>\n",
       "  </thead>\n",
       "  <tbody>\n",
       "    <tr>\n",
       "      <th>2</th>\n",
       "      <td>LXCV-21</td>\n",
       "      <td>MWH-2</td>\n",
       "      <td>27</td>\n",
       "    </tr>\n",
       "    <tr>\n",
       "      <th>7</th>\n",
       "      <td>TMI-43T</td>\n",
       "      <td>MWH-2</td>\n",
       "      <td>29</td>\n",
       "    </tr>\n",
       "    <tr>\n",
       "      <th>8</th>\n",
       "      <td>GCVB-79</td>\n",
       "      <td>MWH-2</td>\n",
       "      <td>10</td>\n",
       "    </tr>\n",
       "    <tr>\n",
       "      <th>35</th>\n",
       "      <td>GCVB-79</td>\n",
       "      <td>MWH-2</td>\n",
       "      <td>31</td>\n",
       "    </tr>\n",
       "    <tr>\n",
       "      <th>36</th>\n",
       "      <td>GCVB-79</td>\n",
       "      <td>MWH-2</td>\n",
       "      <td>28</td>\n",
       "    </tr>\n",
       "    <tr>\n",
       "      <th>42</th>\n",
       "      <td>SDRT-67</td>\n",
       "      <td>MWH-2</td>\n",
       "      <td>31</td>\n",
       "    </tr>\n",
       "  </tbody>\n",
       "</table>\n",
       "</div>"
      ],
      "text/plain": [
       "   MaterialID Location  Quantity\n",
       "2     LXCV-21    MWH-2        27\n",
       "7     TMI-43T    MWH-2        29\n",
       "8     GCVB-79    MWH-2        10\n",
       "35    GCVB-79    MWH-2        31\n",
       "36    GCVB-79    MWH-2        28\n",
       "42    SDRT-67    MWH-2        31"
      ]
     },
     "execution_count": 187,
     "metadata": {},
     "output_type": "execute_result"
    }
   ],
   "source": [
    "mydf"
   ]
  },
  {
   "cell_type": "code",
   "execution_count": 188,
   "id": "9d8560b1",
   "metadata": {},
   "outputs": [],
   "source": [
    "useful=df.drop(ind[0])"
   ]
  },
  {
   "cell_type": "code",
   "execution_count": 189,
   "id": "4833ee90",
   "metadata": {},
   "outputs": [
    {
     "data": {
      "text/plain": [
       "(24, 3)"
      ]
     },
     "execution_count": 189,
     "metadata": {},
     "output_type": "execute_result"
    }
   ],
   "source": [
    "scrap.shape"
   ]
  },
  {
   "cell_type": "code",
   "execution_count": 190,
   "id": "60eec888",
   "metadata": {},
   "outputs": [
    {
     "data": {
      "text/plain": [
       "(44, 3)"
      ]
     },
     "execution_count": 190,
     "metadata": {},
     "output_type": "execute_result"
    }
   ],
   "source": [
    "useful.shape"
   ]
  },
  {
   "cell_type": "code",
   "execution_count": null,
   "id": "83693d61",
   "metadata": {},
   "outputs": [],
   "source": []
  },
  {
   "cell_type": "code",
   "execution_count": null,
   "id": "f3dec1d5",
   "metadata": {},
   "outputs": [],
   "source": []
  },
  {
   "cell_type": "code",
   "execution_count": null,
   "id": "e3f1aed9",
   "metadata": {},
   "outputs": [],
   "source": []
  },
  {
   "cell_type": "code",
   "execution_count": null,
   "id": "5235b973",
   "metadata": {},
   "outputs": [],
   "source": []
  },
  {
   "cell_type": "code",
   "execution_count": null,
   "id": "e4101bac",
   "metadata": {},
   "outputs": [],
   "source": []
  },
  {
   "cell_type": "code",
   "execution_count": null,
   "id": "3bfb91e5",
   "metadata": {},
   "outputs": [],
   "source": []
  },
  {
   "cell_type": "code",
   "execution_count": null,
   "id": "5544eb84",
   "metadata": {},
   "outputs": [],
   "source": []
  },
  {
   "cell_type": "code",
   "execution_count": null,
   "id": "4e354211",
   "metadata": {},
   "outputs": [],
   "source": []
  },
  {
   "cell_type": "code",
   "execution_count": null,
   "id": "8440eb83",
   "metadata": {},
   "outputs": [],
   "source": []
  },
  {
   "cell_type": "code",
   "execution_count": null,
   "id": "9ace0509",
   "metadata": {},
   "outputs": [],
   "source": []
  }
 ],
 "metadata": {
  "kernelspec": {
   "display_name": "Python 3 (ipykernel)",
   "language": "python",
   "name": "python3"
  },
  "language_info": {
   "codemirror_mode": {
    "name": "ipython",
    "version": 3
   },
   "file_extension": ".py",
   "mimetype": "text/x-python",
   "name": "python",
   "nbconvert_exporter": "python",
   "pygments_lexer": "ipython3",
   "version": "3.9.13"
  }
 },
 "nbformat": 4,
 "nbformat_minor": 5
}
