{
 "cells": [
  {
   "cell_type": "markdown",
   "id": "e8cc8dd1",
   "metadata": {},
   "source": [
    "# Steps involved in Hypothesis testing\n",
    "\n",
    "1. Establish the null (Ho) and alternative (H1) hypothesis\n",
    "2. Establish the confidence level and the level of significance for the statistical studies. Level of significance = 100 - confidence level\n",
    "3. Depending on the type of data and the analysis which has to be made, choose the appropriate statistical test\n",
    "4. using the functions and the data, calculate the p-value\n",
    "5. Compare the p-value (from step#4) against the level of significance (step#2) and take the decision\n",
    " \n",
    "#if the p-value is less than the level of significance, then we reject the Ho.\n",
    "\n",
    "#if the p-value is more than the level of significance, then we do not reject the Ho."
   ]
  },
  {
   "cell_type": "code",
   "execution_count": 1,
   "id": "aec417ec",
   "metadata": {},
   "outputs": [
    {
     "data": {
      "text/plain": [
       "'\\nHo t <= 30    Ha t > 30\\nError zone is on the right side of 30\\nright tail test\\n1. Sample size will increase 2. the sixe of the interval will increase\\nLoS = 100 - confidence level\\nLoS = 100- 95  = 5% = 0.05\\n'"
      ]
     },
     "execution_count": 1,
     "metadata": {},
     "output_type": "execute_result"
    }
   ],
   "source": [
    "'''\n",
    "Claim is that food will be delievered in less than 30 min.\n",
    "Ho t <= 30    Ha t > 30  (Agar null hypothesis true hoga to hume koi action lene ki jarurat nhi padegi)\n",
    "Error zone is on the right side of 30\n",
    "right tail test\n",
    "1. Sample size will increase 2. the size of the interval will increase\n",
    "LoS = 100 - confidence level\n",
    "LoS = 100- 95  = 5% = 0.05\n",
    "'''"
   ]
  },
  {
   "cell_type": "markdown",
   "id": "e0f4bc9d",
   "metadata": {},
   "source": [
    "# p-value:  p-value gives you the probability of committing the Type-I error\n",
    "\n",
    "Case-1 : p-value = 0.02\n",
    "\n",
    "p-value < 0.05 (LoS)\n",
    "\n",
    "Reject Ho\n",
    "\n",
    "Action or decision or change is \n",
    "\n",
    "Type-I error: committed when we REJECT Ho which is actually TRUE\n",
    "\n",
    "Rejecting an important phone call\n",
    "\n",
    "Not watching a good movie\n",
    "\n",
    "Case-2 : p-value = 0.3\n",
    "\n",
    "p-value > 0.05 (LoS)\n",
    "\n",
    "Do not reject\n",
    "\n",
    "NO action or change or decision required\n",
    "\n",
    "Type-II error\n",
    "\n",
    "committed when we DO NOT reject Ho when it is actually FALSE\n",
    "\n",
    "PIcking up a marketing call\n",
    "\n",
    "Watching a worthless movie\n",
    "\n",
    "Type-I and Type-II errors are like a see-saw\n",
    "\n",
    "We focus more on Type-I error\n",
    "\n",
    "p-value is the actual probability of committing the Type-I error\n",
    "\n",
    "LoS is the maximum allowed probability of committing the Type-I error\n",
    "\n",
    "Case-1 p-value = 0.02\n",
    "\n",
    "\n",
    "\n",
    "Case-1 : p-value = 0.02\n",
    "\n",
    "p-value < 0.05 (LoS)\n",
    "\n",
    "Reject Ho\n",
    "\n",
    "Action or decision or change is requiredCase-1 : p-value = 0.02\n",
    "\n",
    "p-value < 0.05 (LoS)\n",
    "\n",
    "Reject Ho\n",
    "\n",
    "Action or decision or change is required\n",
    "\n",
    "If we reject the Ho, chances of rejecting something true is 2%\n",
    "\n",
    "Max allowed probability of rejecting something true is 5%\n",
    "\n",
    "\n",
    "Case-2 : p-value = 0.3\n",
    "\n",
    "p-value > 0.05 (LoS)\n",
    "\n",
    "Do not reject\n",
    "\n",
    "NO action or change or decision required\n",
    "\n",
    "If we reject the Ho, chances of rejecting something true is 30%\n",
    "\n",
    "Max allowed probability of rejecting something true is 5%\n",
    "\n",
    "Do not reject Ho\n",
    "\n",
    "IF P-VALUE IS LESS THAN LOS THEN WE REJECT THE null hypothesis.\n"
   ]
  },
  {
   "cell_type": "markdown",
   "id": "3a98086d",
   "metadata": {},
   "source": [
    "# Types of Data\n",
    "1. Continuous Data\n",
    "2. Discrete Data"
   ]
  },
  {
   "cell_type": "markdown",
   "id": "3d2179ce",
   "metadata": {},
   "source": [
    "# Analysis of continuous data\n",
    "1. Mean\n",
    "2. Variance\n",
    "3. 1 Sample T test\n"
   ]
  },
  {
   "cell_type": "markdown",
   "id": "55fdeb3d",
   "metadata": {},
   "source": [
    "# 1 Sample t test\n",
    "this test is used when we wish to compare the sample mean against a claim value \n",
    "\n",
    "and establish whether the difference is statistically significant or not\n",
    "\n",
    "delivery made by swiggy, expected salary\n",
    "\n",
    "a sample of 100 deliveries\n",
    "\n",
    "sample mean(SS) = 32\n",
    "\n",
    "Claim value (PP) = 30\n",
    "\n",
    "Ho mean <= 30\n",
    "\n",
    "SS = PP + Actual Diff + Chance variation\n",
    "\n",
    "32 = 30 + AD + CV\n",
    "\n",
    "# here 30 and 32 are not far away so we will see whether it is chance variation or real error \n",
    "#so that certain no. we decide by Loc and los"
   ]
  },
  {
   "cell_type": "code",
   "execution_count": 3,
   "id": "a85a1063",
   "metadata": {},
   "outputs": [],
   "source": [
    "import numpy as np\n",
    "import statsmodels\n",
    "from statsmodels import stats\n",
    "from statsmodels.stats import weightstats"
   ]
  },
  {
   "cell_type": "code",
   "execution_count": 2,
   "id": "3c7daf3b",
   "metadata": {},
   "outputs": [],
   "source": [
    "del_time = [31,28,34,28,29,32,33,28,29,33,32,31,30,31,32,29,28,29,28,32]"
   ]
  },
  {
   "cell_type": "code",
   "execution_count": 4,
   "id": "6e537765",
   "metadata": {},
   "outputs": [
    {
     "data": {
      "text/plain": [
       "30.35"
      ]
     },
     "execution_count": 4,
     "metadata": {},
     "output_type": "execute_result"
    }
   ],
   "source": [
    "np.mean(del_time)"
   ]
  },
  {
   "cell_type": "code",
   "execution_count": 5,
   "id": "e8cdbef6",
   "metadata": {},
   "outputs": [
    {
     "data": {
      "text/plain": [
       "20"
      ]
     },
     "execution_count": 5,
     "metadata": {},
     "output_type": "execute_result"
    }
   ],
   "source": [
    "len(del_time)"
   ]
  },
  {
   "cell_type": "code",
   "execution_count": 6,
   "id": "d1778cc3",
   "metadata": {},
   "outputs": [
    {
     "data": {
      "text/plain": [
       "(0.7901981685247765, 0.21470602273510958)"
      ]
     },
     "execution_count": 6,
     "metadata": {},
     "output_type": "execute_result"
    }
   ],
   "source": [
    "'''\n",
    "Claim is that 30 min is the mean time.now we will check whether 0.35 is a matter of chance variance or not.\n",
    "'''\n",
    "statsmodels.stats.weightstats.ztest(del_time,value=30,alternative='larger')"
   ]
  },
  {
   "cell_type": "code",
   "execution_count": null,
   "id": "a43fc3ed",
   "metadata": {},
   "outputs": [],
   "source": []
  }
 ],
 "metadata": {
  "kernelspec": {
   "display_name": "Python 3 (ipykernel)",
   "language": "python",
   "name": "python3"
  },
  "language_info": {
   "codemirror_mode": {
    "name": "ipython",
    "version": 3
   },
   "file_extension": ".py",
   "mimetype": "text/x-python",
   "name": "python",
   "nbconvert_exporter": "python",
   "pygments_lexer": "ipython3",
   "version": "3.9.13"
  }
 },
 "nbformat": 4,
 "nbformat_minor": 5
}
