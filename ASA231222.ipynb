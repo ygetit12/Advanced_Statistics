{
 "cells": [
  {
   "cell_type": "markdown",
   "id": "34941112",
   "metadata": {},
   "source": [
    "#inferential statistic \n",
    "# Predictive analysis\n"
   ]
  },
  {
   "cell_type": "code",
   "execution_count": 2,
   "id": "4eb18850",
   "metadata": {},
   "outputs": [],
   "source": [
    "import numpy as np "
   ]
  },
  {
   "cell_type": "code",
   "execution_count": 3,
   "id": "4c0ef529",
   "metadata": {},
   "outputs": [],
   "source": [
    "import pandas as pd "
   ]
  },
  {
   "cell_type": "code",
   "execution_count": 4,
   "id": "2a2e7b56",
   "metadata": {},
   "outputs": [],
   "source": [
    "import scipy "
   ]
  },
  {
   "cell_type": "code",
   "execution_count": 5,
   "id": "183295bf",
   "metadata": {},
   "outputs": [],
   "source": [
    "from scipy import stats "
   ]
  },
  {
   "cell_type": "code",
   "execution_count": 6,
   "id": "37c7101a",
   "metadata": {},
   "outputs": [],
   "source": [
    "from scipy.stats import rv_discrete"
   ]
  },
  {
   "cell_type": "markdown",
   "id": "0425f36c",
   "metadata": {},
   "source": [
    "for 10 accidents per day"
   ]
  },
  {
   "cell_type": "code",
   "execution_count": 9,
   "id": "01e62202",
   "metadata": {},
   "outputs": [
    {
     "data": {
      "text/plain": [
       "(4.0, 17.0)"
      ]
     },
     "execution_count": 9,
     "metadata": {},
     "output_type": "execute_result"
    }
   ],
   "source": [
    "scipy.stats.poisson.interval(0.95,10)"
   ]
  },
  {
   "cell_type": "markdown",
   "id": "4e28c87a",
   "metadata": {},
   "source": [
    "Q1.) Taking decision based on counts.\n",
    "# Ho: number of accidents in mumbai are 25 per day\n",
    "In sample of 10 days,127 accidents took place => 12.7 accidents per day"
   ]
  },
  {
   "cell_type": "code",
   "execution_count": 10,
   "id": "121bee34",
   "metadata": {},
   "outputs": [
    {
     "data": {
      "text/plain": [
       "(6.0, 20.0)"
      ]
     },
     "execution_count": 10,
     "metadata": {},
     "output_type": "execute_result"
    }
   ],
   "source": [
    "scipy.stats.poisson.interval(0.95,12.7)"
   ]
  },
  {
   "cell_type": "markdown",
   "id": "81a9bf32",
   "metadata": {},
   "source": [
    "sample_data=[10,20,30]"
   ]
  },
  {
   "cell_type": "code",
   "execution_count": 11,
   "id": "eb844de8",
   "metadata": {},
   "outputs": [
    {
     "data": {
      "text/plain": [
       "(array([ 4., 12., 20.]), array([17., 29., 41.]))"
      ]
     },
     "execution_count": 11,
     "metadata": {},
     "output_type": "execute_result"
    }
   ],
   "source": [
    "scipy.stats.poisson.interval(0.95,[10,20,30])"
   ]
  },
  {
   "cell_type": "markdown",
   "id": "ce59feeb",
   "metadata": {},
   "source": [
    "# predictive analysis(Regression Analysis)\n",
    "1.single Regression Model  (y=mx+c)      \n",
    "2.Multiple Regression Model (y=m1x1+m2x2+c)"
   ]
  },
  {
   "cell_type": "code",
   "execution_count": 13,
   "id": "2f83440b",
   "metadata": {},
   "outputs": [],
   "source": [
    "# 500 rows and 4 columns\n",
    "# 3 columns would be the predcitors, and one column will be the response\n",
    "# x - 3 clumns and 500 rows, y - one column and 500 rows\n",
    "# x- x_train, x_test, y- y_train, y_test\n",
    "# x_train - 3 columns and randomly selected 450 rows\n",
    "# y_train - single column and same 450 rows which were selcted for x_train\n",
    "# x_test - 3 columns and the remaining 50 rows\n",
    "# y_test - sinvle column and remaiing 50 rows"
   ]
  },
  {
   "cell_type": "code",
   "execution_count": 19,
   "id": "9b7208d5",
   "metadata": {},
   "outputs": [],
   "source": [
    "df = pd.read_excel('CDAC_DataBook.xlsx', sheet_name ='faithful')"
   ]
  },
  {
   "cell_type": "code",
   "execution_count": 20,
   "id": "0a6bf2b8",
   "metadata": {},
   "outputs": [
    {
     "data": {
      "text/html": [
       "<div>\n",
       "<style scoped>\n",
       "    .dataframe tbody tr th:only-of-type {\n",
       "        vertical-align: middle;\n",
       "    }\n",
       "\n",
       "    .dataframe tbody tr th {\n",
       "        vertical-align: top;\n",
       "    }\n",
       "\n",
       "    .dataframe thead th {\n",
       "        text-align: right;\n",
       "    }\n",
       "</style>\n",
       "<table border=\"1\" class=\"dataframe\">\n",
       "  <thead>\n",
       "    <tr style=\"text-align: right;\">\n",
       "      <th></th>\n",
       "      <th>eruptions</th>\n",
       "      <th>waiting</th>\n",
       "    </tr>\n",
       "  </thead>\n",
       "  <tbody>\n",
       "    <tr>\n",
       "      <th>0</th>\n",
       "      <td>3.600</td>\n",
       "      <td>79</td>\n",
       "    </tr>\n",
       "    <tr>\n",
       "      <th>1</th>\n",
       "      <td>1.800</td>\n",
       "      <td>54</td>\n",
       "    </tr>\n",
       "    <tr>\n",
       "      <th>2</th>\n",
       "      <td>3.333</td>\n",
       "      <td>74</td>\n",
       "    </tr>\n",
       "    <tr>\n",
       "      <th>3</th>\n",
       "      <td>2.283</td>\n",
       "      <td>62</td>\n",
       "    </tr>\n",
       "    <tr>\n",
       "      <th>4</th>\n",
       "      <td>4.533</td>\n",
       "      <td>85</td>\n",
       "    </tr>\n",
       "  </tbody>\n",
       "</table>\n",
       "</div>"
      ],
      "text/plain": [
       "   eruptions  waiting\n",
       "0      3.600       79\n",
       "1      1.800       54\n",
       "2      3.333       74\n",
       "3      2.283       62\n",
       "4      4.533       85"
      ]
     },
     "execution_count": 20,
     "metadata": {},
     "output_type": "execute_result"
    }
   ],
   "source": [
    "df.head()"
   ]
  },
  {
   "cell_type": "code",
   "execution_count": 21,
   "id": "78622988",
   "metadata": {},
   "outputs": [],
   "source": [
    "# eruptions =response  ;  waiting =prediction"
   ]
  },
  {
   "cell_type": "code",
   "execution_count": 24,
   "id": "06b72210",
   "metadata": {},
   "outputs": [],
   "source": [
    "import numpy as np\n",
    "import pandas as pd\n",
    "import sklearn\n",
    "from sklearn.model_selection import train_test_split\n",
    "import statsmodels\n",
    "import statsmodels.api as sm"
   ]
  },
  {
   "cell_type": "code",
   "execution_count": 25,
   "id": "482f473e",
   "metadata": {},
   "outputs": [],
   "source": [
    "x_train, x_test, y_train, y_test = train_test_split(df['waiting'], df.eruptions, test_size = 0.2)"
   ]
  },
  {
   "cell_type": "code",
   "execution_count": 26,
   "id": "3b647dbb",
   "metadata": {},
   "outputs": [],
   "source": [
    "x_train = sm.add_constant(x_train)"
   ]
  },
  {
   "cell_type": "code",
   "execution_count": 27,
   "id": "567773f8",
   "metadata": {},
   "outputs": [],
   "source": [
    "mod1 = sm.OLS(y_train,x_train).fit()"
   ]
  },
  {
   "cell_type": "code",
   "execution_count": 28,
   "id": "bc13a7ec",
   "metadata": {},
   "outputs": [
    {
     "name": "stdout",
     "output_type": "stream",
     "text": [
      "                            OLS Regression Results                            \n",
      "==============================================================================\n",
      "Dep. Variable:              eruptions   R-squared:                       0.817\n",
      "Model:                            OLS   Adj. R-squared:                  0.816\n",
      "Method:                 Least Squares   F-statistic:                     959.0\n",
      "Date:                Sun, 25 Dec 2022   Prob (F-statistic):           3.37e-81\n",
      "Time:                        09:20:47   Log-Likelihood:                -146.86\n",
      "No. Observations:                 217   AIC:                             297.7\n",
      "Df Residuals:                     215   BIC:                             304.5\n",
      "Df Model:                           1                                         \n",
      "Covariance Type:            nonrobust                                         \n",
      "==============================================================================\n",
      "                 coef    std err          t      P>|t|      [0.025      0.975]\n",
      "------------------------------------------------------------------------------\n",
      "const         -1.8070      0.175    -10.323      0.000      -2.152      -1.462\n",
      "waiting        0.0746      0.002     30.967      0.000       0.070       0.079\n",
      "==============================================================================\n",
      "Omnibus:                        3.302   Durbin-Watson:                   2.190\n",
      "Prob(Omnibus):                  0.192   Jarque-Bera (JB):                2.547\n",
      "Skew:                          -0.127   Prob(JB):                        0.280\n",
      "Kurtosis:                       2.534   Cond. No.                         392.\n",
      "==============================================================================\n",
      "\n",
      "Notes:\n",
      "[1] Standard Errors assume that the covariance matrix of the errors is correctly specified.\n"
     ]
    }
   ],
   "source": [
    "print(mod1.summary())"
   ]
  },
  {
   "cell_type": "code",
   "execution_count": null,
   "id": "d5eb1876",
   "metadata": {},
   "outputs": [],
   "source": []
  }
 ],
 "metadata": {
  "kernelspec": {
   "display_name": "Python 3 (ipykernel)",
   "language": "python",
   "name": "python3"
  },
  "language_info": {
   "codemirror_mode": {
    "name": "ipython",
    "version": 3
   },
   "file_extension": ".py",
   "mimetype": "text/x-python",
   "name": "python",
   "nbconvert_exporter": "python",
   "pygments_lexer": "ipython3",
   "version": "3.9.13"
  }
 },
 "nbformat": 4,
 "nbformat_minor": 5
}
