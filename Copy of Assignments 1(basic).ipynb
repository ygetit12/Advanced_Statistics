{
 "cells": [
  {
   "cell_type": "markdown",
   "id": "a5fefc40",
   "metadata": {},
   "source": [
    "Q.1 Create a 1D array of numbers from 0 to 9\n",
    "\n",
    "Q.2 Create a 3×3 numpy array of all True’s\n",
    "\n",
    "Q.3 Extract all odd numbers from arr\n",
    "\tInput:\n",
    "\tarr = np.array([0, 1, 2, 3, 4, 5, 6, 7, 8, 9])\n",
    "\n",
    "Q.4 Replace all odd numbers in arr with -1\n",
    "\tInput:\n",
    "\tarr = np.array([0, 1, 2, 3, 4, 5, 6, 7, 8, 9])\n",
    "\n",
    "Q.5 Convert a 1D array to a 2D array with 2 rows\n",
    "\tInput:\n",
    "\tarr = np.array([0, 1, 2, 3, 4, 5, 6, 7, 8, 9])\n",
    "\n",
    "\n",
    "Q.NO.1] Define the different ways a DataFrame can be created in pandas?\n",
    "\n",
    "Q.NO.2] How will you create an empty DataFrame in Pandas?\n",
    "\n",
    "Q.NO.3] What are the key features of pandas library ?\n",
    "\n",
    "Q.NO.4] Write a Pandas program to rename columns of a given DataFrame.\n",
    "\n",
    "Sample data:\n",
    "Original DataFrame\n",
    "col1 col2 col3\n",
    "0 1 4 7\n",
    "1 2 5 8\n",
    "2 3 6 9\n",
    "New DataFrame after renaming columns:\n",
    "Column1 Column2 Column3\n",
    "0 1 4 7\n",
    "1 2 5 8\n",
    "2 3 6 9\n",
    "\n",
    "\n",
    "Q.NO.5] Write a Pandas program to convert a dictionary to a Pandas series.\n",
    "\n",
    "SSample dictionary: d1 = {'a': 100, 'b': 200, 'c':300, 'd':400, 'e':800}\n",
    "\n",
    "\n",
    "\n",
    "\n",
    "\n",
    "Q.No.1 Cricketer's scores in five ODI matches are as follows:\n",
    "12, 34, 45, 50, 24.\n",
    "calculate mean of data using the R and python:\n",
    "Q.No.2 Write down Difference Between Mean, Median and Mode(with Example).\n",
    "\n",
    "\n",
    "\n",
    "Q.No.1 Daily Closing Prices of Two Stocks arranged as per returns. So calculate Covariance using R and Formula.\n",
    "\t \n",
    "\tx: 1.8 , 1.5, 2.1 , 2.4 , 0.2\n",
    "\ty: 2.5 , 4.3 , 4.5 , 4.1 ,2.2\n",
    "\n",
    "\n",
    "Q.No.2 Write down Difference Between Covariance and Correlation\n",
    "\n",
    "\n",
    "\n",
    "\n",
    "\n",
    "\n",
    "\n"
   ]
  },
  {
   "cell_type": "code",
   "execution_count": 2,
   "id": "8057db2d",
   "metadata": {},
   "outputs": [],
   "source": [
    "import numpy as np,pandas as pd"
   ]
  },
  {
   "cell_type": "code",
   "execution_count": 2,
   "id": "3f06c047",
   "metadata": {},
   "outputs": [
    {
     "data": {
      "text/plain": [
       "array([0, 1, 2, 3, 4, 5, 6, 7, 8, 9])"
      ]
     },
     "execution_count": 2,
     "metadata": {},
     "output_type": "execute_result"
    }
   ],
   "source": [
    "#Q.1 Create a 1D array of numbers from 0 to 9\n",
    "\n",
    "x=np.arange(10)\n",
    "x\n"
   ]
  },
  {
   "cell_type": "code",
   "execution_count": 10,
   "id": "c5679efc",
   "metadata": {},
   "outputs": [
    {
     "data": {
      "text/plain": [
       "array([[1, 1, 1],\n",
       "       [1, 1, 1],\n",
       "       [1, 1, 1]])"
      ]
     },
     "execution_count": 10,
     "metadata": {},
     "output_type": "execute_result"
    }
   ],
   "source": [
    "#Q.2 Create a 3×3 numpy array of all True’s\n",
    "\n",
    "x=[1,1,1,1,1,1,1,1,1]\n",
    "x1=np.array([x])\n",
    "y=x1.reshape(3,3)\n",
    "y"
   ]
  },
  {
   "cell_type": "code",
   "execution_count": 11,
   "id": "ebbe3e9a",
   "metadata": {},
   "outputs": [
    {
     "data": {
      "text/plain": [
       "(array([1, 3, 5, 7, 9], dtype=int64),)"
      ]
     },
     "execution_count": 11,
     "metadata": {},
     "output_type": "execute_result"
    }
   ],
   "source": [
    "'''Q.3 Extract all odd numbers from arr\n",
    "\tInput:\n",
    "\tarr = np.array([0, 1, 2, 3, 4, 5, 6, 7, 8, 9])\n",
    "'''\n",
    "arr = np.array([0, 1, 2, 3, 4, 5, 6, 7, 8, 9])\n",
    "odd=np.where(arr%2!=0)\n",
    "odd"
   ]
  },
  {
   "cell_type": "code",
   "execution_count": 15,
   "id": "f27151f9",
   "metadata": {},
   "outputs": [
    {
     "name": "stdout",
     "output_type": "stream",
     "text": [
      "[ 0 -1  2 -1  4 -1  6 -1  8 -1]\n"
     ]
    }
   ],
   "source": [
    "'''Q.4 Replace all odd numbers in arr with -1\n",
    "\tInput:\n",
    "\tarr = np.array([0, 1, 2, 3, 4, 5, 6, 7, 8, 9])\n",
    "'''\n",
    "arr = np.array([0, 1, 2, 3, 4, 5, 6, 7, 8, 9])\n",
    "arr[arr%2!=0] = -1\n",
    "print(arr)"
   ]
  },
  {
   "cell_type": "code",
   "execution_count": 18,
   "id": "b0e45738",
   "metadata": {},
   "outputs": [
    {
     "data": {
      "text/plain": [
       "array([[0, 1, 2, 3, 4],\n",
       "       [5, 6, 7, 8, 9]])"
      ]
     },
     "execution_count": 18,
     "metadata": {},
     "output_type": "execute_result"
    }
   ],
   "source": [
    "'''\n",
    "Q.5 Convert a 1D array to a 2D array with 2 rows\n",
    "\tInput:\n",
    "\tarr = np.array([0, 1, 2, 3, 4, 5, 6, 7, 8, 9])\n",
    "\n",
    "'''\n",
    "arr = np.array([0, 1, 2, 3, 4, 5, 6, 7, 8, 9])\n",
    "x=arr.reshape(2,5)\n",
    "x"
   ]
  },
  {
   "cell_type": "code",
   "execution_count": 3,
   "id": "969c6c27",
   "metadata": {},
   "outputs": [
    {
     "name": "stdout",
     "output_type": "stream",
     "text": [
      "   0\n",
      "0  1\n",
      "1  2\n",
      "2  3\n",
      "3  4\n",
      "4  5\n",
      "5  6 <class 'pandas.core.frame.DataFrame'>\n"
     ]
    }
   ],
   "source": [
    "#Q.NO.1] Define the different ways a DataFrame can be created in pandas?\n",
    "m1=pd.DataFrame({1,2,3,4,5,6,})\n",
    "print(m1,type(m1))"
   ]
  },
  {
   "cell_type": "code",
   "execution_count": 4,
   "id": "f75df11b",
   "metadata": {},
   "outputs": [
    {
     "name": "stdout",
     "output_type": "stream",
     "text": [
      "   0\n",
      "0  1\n",
      "1  2\n",
      "2  3\n",
      "3  4\n",
      "4  5 <class 'pandas.core.frame.DataFrame'>\n"
     ]
    }
   ],
   "source": [
    "l1=[1,2,3,4,5]\n",
    "m2=pd.DataFrame(l1)\n",
    "print(m2,type(m2))"
   ]
  },
  {
   "cell_type": "code",
   "execution_count": 5,
   "id": "6b4c29f1",
   "metadata": {},
   "outputs": [
    {
     "data": {
      "text/plain": [
       "'\\nm3=pd.read_excel(\"name of excel file\")\\nprint(m3,type(m3))\\n'"
      ]
     },
     "execution_count": 5,
     "metadata": {},
     "output_type": "execute_result"
    }
   ],
   "source": [
    "#by reading a excel file\n",
    "'''\n",
    "m3=pd.read_excel(\"name of excel file\")\n",
    "print(m3,type(m3))\n",
    "'''"
   ]
  },
  {
   "cell_type": "code",
   "execution_count": 6,
   "id": "9a61c08a",
   "metadata": {},
   "outputs": [
    {
     "name": "stdout",
     "output_type": "stream",
     "text": [
      "Empty DataFrame\n",
      "Columns: []\n",
      "Index: [] <class 'pandas.core.frame.DataFrame'>\n"
     ]
    }
   ],
   "source": [
    "#Q.NO.2] How will you create an empty DataFrame in Pandas?\n",
    "df_empty=pd.DataFrame({})\n",
    "print(df_empty,type(df_empty))"
   ]
  },
  {
   "cell_type": "code",
   "execution_count": 7,
   "id": "4f7d40d6",
   "metadata": {},
   "outputs": [
    {
     "data": {
      "text/plain": [
       "'\\n1.Data Visualization\\n2.grouping\\n3.can contain heterogenous data\\n4.tabular operation\\n'"
      ]
     },
     "execution_count": 7,
     "metadata": {},
     "output_type": "execute_result"
    }
   ],
   "source": [
    "#Q.NO.3] What are the key features of pandas library ?\n",
    "'''\n",
    "1.Data Visualization\n",
    "2.grouping\n",
    "3.can contain heterogenous data\n",
    "4.tabular operation\n",
    "'''"
   ]
  },
  {
   "cell_type": "code",
   "execution_count": 8,
   "id": "279e42c3",
   "metadata": {},
   "outputs": [
    {
     "name": "stdout",
     "output_type": "stream",
     "text": [
      "   col1  col2  col3\n",
      "0     0     1     2\n",
      "1     1     2     3\n",
      "2     4     5     6\n",
      "3     7     8     9\n",
      "   column1  column2  column3\n",
      "0        0        1        2\n",
      "1        1        2        3\n",
      "2        4        5        6\n",
      "3        7        8        9\n"
     ]
    }
   ],
   "source": [
    "'''\n",
    "Q.NO.4] Write a Pandas program to rename columns of a given DataFrame.\n",
    "Sample data:\n",
    "Original DataFrame\n",
    "col1 col2 col3\n",
    "0 1 4 7\n",
    "1 2 5 8\n",
    "2 3 6 9\n",
    "New DataFrame after renaming columns:\n",
    "Column1 Column2 Column3\n",
    "0 1 4 7\n",
    "1 2 5 8\n",
    "2 3 6 9\n",
    "'''\n",
    "df1=pd.DataFrame({'col1':[0,1,4,7],'col2':[1, 2 ,5 ,8],'col3':[2 ,3, 6, 9]})\n",
    "print(df1)\n",
    "df1.rename(columns={'col1':'column1','col2':'column2','col3':'column3'},inplace=True)\n",
    "print(df1)"
   ]
  },
  {
   "cell_type": "code",
   "execution_count": 9,
   "id": "065e0821",
   "metadata": {},
   "outputs": [
    {
     "name": "stdout",
     "output_type": "stream",
     "text": [
      "a    100\n",
      "b    200\n",
      "c    300\n",
      "d    400\n",
      "e    800\n",
      "dtype: int64 <class 'pandas.core.series.Series'>\n"
     ]
    }
   ],
   "source": [
    "'''\n",
    "Q.NO.5] Write a Pandas program to convert a dictionary to a Pandas series.\n",
    "\n",
    "SSample dictionary: d1 = {'a': 100, 'b': 200, 'c':300, 'd':400, 'e':800}\n",
    "'''\n",
    "d1 = {'a': 100, 'b': 200, 'c':300, 'd':400, 'e':800}\n",
    "d1_series=pd.Series(d1)\n",
    "print(d1_series,type(d1_series))"
   ]
  },
  {
   "cell_type": "code",
   "execution_count": 10,
   "id": "095ac43b",
   "metadata": {},
   "outputs": [
    {
     "name": "stdout",
     "output_type": "stream",
     "text": [
      "mean=  33.0\n"
     ]
    }
   ],
   "source": [
    "'''\n",
    "Q.No.1 Cricketer's scores in five ODI matches are as follows:\n",
    "12, 34, 45, 50, 24.\n",
    "calculate mean of data using the R and python:\n",
    "'''\n",
    "s=pd.Series([12, 34, 45, 50, 24])\n",
    "print(\"mean= \",s.agg(np.mean))"
   ]
  },
  {
   "cell_type": "code",
   "execution_count": 11,
   "id": "c01ba5da",
   "metadata": {},
   "outputs": [
    {
     "data": {
      "text/plain": [
       "'\\nMean is the average value of the given observations\\nMedian is the middle value of the given observations\\nMode is the most repeated value in the given observation'"
      ]
     },
     "execution_count": 11,
     "metadata": {},
     "output_type": "execute_result"
    }
   ],
   "source": [
    "#Q.No.2 Write down Difference Between Mean, Median and Mode(with Example).\n",
    "'''\n",
    "Mean is the average value of the given observations\n",
    "Median is the middle value of the given observations\n",
    "Mode is the most repeated value in the given observation'''\n"
   ]
  },
  {
   "cell_type": "code",
   "execution_count": 13,
   "id": "c0aac562",
   "metadata": {},
   "outputs": [
    {
     "name": "stdout",
     "output_type": "stream",
     "text": [
      "0.6299999999999999\n"
     ]
    }
   ],
   "source": [
    "'''\n",
    "Q.No.1 Daily Closing Prices of Two Stocks arranged as per returns. So calculate Covariance using R and Formula.\n",
    "\t \n",
    "\tx: 1.8 , 1.5, 2.1 , 2.4 , 0.2\n",
    "\ty: 2.5 , 4.3 , 4.5 , 4.1 ,2.2\n",
    "'''\n",
    "x=[ 1.8 , 1.5, 2.1 , 2.4 , 0.2]\n",
    "y=[2.5 , 4.3 , 4.5 , 4.1 ,2.2]\n",
    "    \n",
    "cov=np.cov(x,y)[0][1]\n",
    "print(cov)"
   ]
  },
  {
   "cell_type": "code",
   "execution_count": 14,
   "id": "cd57d11e",
   "metadata": {},
   "outputs": [
    {
     "data": {
      "text/plain": [
       "'Q.No.2 Write down Difference Between Covariance and Correlation\\nThe difference between covariance and correlation is that covariance measures the strength or weakness of the correlation between two or more sets of random variables. On the other hand, correlation means to serve as an extended form of covariance.'"
      ]
     },
     "execution_count": 14,
     "metadata": {},
     "output_type": "execute_result"
    }
   ],
   "source": [
    "'''Q.No.2 Write down Difference Between Covariance and Correlation\n",
    "The difference between covariance and correlation is that covariance measures the strength or weakness of the correlation between two or more sets of random variables. On the other hand, correlation means to serve as an extended form of covariance.'''\n"
   ]
  },
  {
   "cell_type": "markdown",
   "id": "89d65412",
   "metadata": {},
   "source": []
  }
 ],
 "metadata": {
  "kernelspec": {
   "display_name": "Python 3 (ipykernel)",
   "language": "python",
   "name": "python3"
  },
  "language_info": {
   "codemirror_mode": {
    "name": "ipython",
    "version": 3
   },
   "file_extension": ".py",
   "mimetype": "text/x-python",
   "name": "python",
   "nbconvert_exporter": "python",
   "pygments_lexer": "ipython3",
   "version": "3.9.13"
  }
 },
 "nbformat": 4,
 "nbformat_minor": 5
}
