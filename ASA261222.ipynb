{
 "cells": [
  {
   "cell_type": "markdown",
   "id": "70e26a6d",
   "metadata": {},
   "source": [
    "# nominal regression model"
   ]
  },
  {
   "cell_type": "code",
   "execution_count": 1,
   "id": "18b6ab32",
   "metadata": {},
   "outputs": [],
   "source": [
    "import numpy as np\n",
    "import pandas as pd\n",
    "import statsmodels.api as sm\n",
    "import sklearn\n",
    "from sklearn.model_selection import train_test_split\n",
    "from statsmodels import discrete\n",
    "from statsmodels.discrete import discrete_model\n",
    "from statsmodels.discrete.discrete_model import MNLogit\n"
   ]
  },
  {
   "cell_type": "code",
   "execution_count": 2,
   "id": "df521187",
   "metadata": {},
   "outputs": [],
   "source": [
    "df = pd.read_excel('CDAC_DataBook.xlsx', sheet_name='nominal')\n"
   ]
  },
  {
   "cell_type": "code",
   "execution_count": 3,
   "id": "150f36d1",
   "metadata": {},
   "outputs": [
    {
     "data": {
      "text/html": [
       "<div>\n",
       "<style scoped>\n",
       "    .dataframe tbody tr th:only-of-type {\n",
       "        vertical-align: middle;\n",
       "    }\n",
       "\n",
       "    .dataframe tbody tr th {\n",
       "        vertical-align: top;\n",
       "    }\n",
       "\n",
       "    .dataframe thead th {\n",
       "        text-align: right;\n",
       "    }\n",
       "</style>\n",
       "<table border=\"1\" class=\"dataframe\">\n",
       "  <thead>\n",
       "    <tr style=\"text-align: right;\">\n",
       "      <th></th>\n",
       "      <th>ses</th>\n",
       "      <th>write</th>\n",
       "      <th>math</th>\n",
       "      <th>prog</th>\n",
       "    </tr>\n",
       "  </thead>\n",
       "  <tbody>\n",
       "    <tr>\n",
       "      <th>0</th>\n",
       "      <td>1</td>\n",
       "      <td>35</td>\n",
       "      <td>41</td>\n",
       "      <td>1</td>\n",
       "    </tr>\n",
       "    <tr>\n",
       "      <th>1</th>\n",
       "      <td>2</td>\n",
       "      <td>33</td>\n",
       "      <td>41</td>\n",
       "      <td>2</td>\n",
       "    </tr>\n",
       "    <tr>\n",
       "      <th>2</th>\n",
       "      <td>3</td>\n",
       "      <td>39</td>\n",
       "      <td>44</td>\n",
       "      <td>3</td>\n",
       "    </tr>\n",
       "    <tr>\n",
       "      <th>3</th>\n",
       "      <td>1</td>\n",
       "      <td>37</td>\n",
       "      <td>42</td>\n",
       "      <td>1</td>\n",
       "    </tr>\n",
       "    <tr>\n",
       "      <th>4</th>\n",
       "      <td>2</td>\n",
       "      <td>31</td>\n",
       "      <td>40</td>\n",
       "      <td>2</td>\n",
       "    </tr>\n",
       "  </tbody>\n",
       "</table>\n",
       "</div>"
      ],
      "text/plain": [
       "   ses  write  math  prog\n",
       "0    1     35    41     1\n",
       "1    2     33    41     2\n",
       "2    3     39    44     3\n",
       "3    1     37    42     1\n",
       "4    2     31    40     2"
      ]
     },
     "execution_count": 3,
     "metadata": {},
     "output_type": "execute_result"
    }
   ],
   "source": [
    "df.head()"
   ]
  },
  {
   "cell_type": "code",
   "execution_count": 4,
   "id": "97b82105",
   "metadata": {},
   "outputs": [],
   "source": [
    "df = df[['ses','math','prog']]\n"
   ]
  },
  {
   "cell_type": "code",
   "execution_count": 5,
   "id": "62c4af84",
   "metadata": {},
   "outputs": [
    {
     "data": {
      "text/html": [
       "<div>\n",
       "<style scoped>\n",
       "    .dataframe tbody tr th:only-of-type {\n",
       "        vertical-align: middle;\n",
       "    }\n",
       "\n",
       "    .dataframe tbody tr th {\n",
       "        vertical-align: top;\n",
       "    }\n",
       "\n",
       "    .dataframe thead th {\n",
       "        text-align: right;\n",
       "    }\n",
       "</style>\n",
       "<table border=\"1\" class=\"dataframe\">\n",
       "  <thead>\n",
       "    <tr style=\"text-align: right;\">\n",
       "      <th></th>\n",
       "      <th>ses</th>\n",
       "      <th>math</th>\n",
       "      <th>prog</th>\n",
       "    </tr>\n",
       "  </thead>\n",
       "  <tbody>\n",
       "    <tr>\n",
       "      <th>0</th>\n",
       "      <td>1</td>\n",
       "      <td>41</td>\n",
       "      <td>1</td>\n",
       "    </tr>\n",
       "    <tr>\n",
       "      <th>1</th>\n",
       "      <td>2</td>\n",
       "      <td>41</td>\n",
       "      <td>2</td>\n",
       "    </tr>\n",
       "    <tr>\n",
       "      <th>2</th>\n",
       "      <td>3</td>\n",
       "      <td>44</td>\n",
       "      <td>3</td>\n",
       "    </tr>\n",
       "    <tr>\n",
       "      <th>3</th>\n",
       "      <td>1</td>\n",
       "      <td>42</td>\n",
       "      <td>1</td>\n",
       "    </tr>\n",
       "    <tr>\n",
       "      <th>4</th>\n",
       "      <td>2</td>\n",
       "      <td>40</td>\n",
       "      <td>2</td>\n",
       "    </tr>\n",
       "  </tbody>\n",
       "</table>\n",
       "</div>"
      ],
      "text/plain": [
       "   ses  math  prog\n",
       "0    1    41     1\n",
       "1    2    41     2\n",
       "2    3    44     3\n",
       "3    1    42     1\n",
       "4    2    40     2"
      ]
     },
     "execution_count": 5,
     "metadata": {},
     "output_type": "execute_result"
    }
   ],
   "source": [
    "df.head()"
   ]
  },
  {
   "cell_type": "code",
   "execution_count": 6,
   "id": "c593b2d3",
   "metadata": {},
   "outputs": [],
   "source": [
    "ses_dummy = pd.get_dummies(df['ses'],drop_first=True)\n"
   ]
  },
  {
   "cell_type": "code",
   "execution_count": 7,
   "id": "7bd4f7e2",
   "metadata": {},
   "outputs": [],
   "source": [
    "df = df.drop('ses', axis=1)\n"
   ]
  },
  {
   "cell_type": "code",
   "execution_count": 8,
   "id": "f3a4ef87",
   "metadata": {},
   "outputs": [],
   "source": [
    "df = pd.concat([df,ses_dummy], axis=1)\n"
   ]
  },
  {
   "cell_type": "code",
   "execution_count": 9,
   "id": "34d7f7df",
   "metadata": {},
   "outputs": [
    {
     "data": {
      "text/html": [
       "<div>\n",
       "<style scoped>\n",
       "    .dataframe tbody tr th:only-of-type {\n",
       "        vertical-align: middle;\n",
       "    }\n",
       "\n",
       "    .dataframe tbody tr th {\n",
       "        vertical-align: top;\n",
       "    }\n",
       "\n",
       "    .dataframe thead th {\n",
       "        text-align: right;\n",
       "    }\n",
       "</style>\n",
       "<table border=\"1\" class=\"dataframe\">\n",
       "  <thead>\n",
       "    <tr style=\"text-align: right;\">\n",
       "      <th></th>\n",
       "      <th>math</th>\n",
       "      <th>prog</th>\n",
       "      <th>2</th>\n",
       "      <th>3</th>\n",
       "    </tr>\n",
       "  </thead>\n",
       "  <tbody>\n",
       "    <tr>\n",
       "      <th>0</th>\n",
       "      <td>41</td>\n",
       "      <td>1</td>\n",
       "      <td>0</td>\n",
       "      <td>0</td>\n",
       "    </tr>\n",
       "    <tr>\n",
       "      <th>1</th>\n",
       "      <td>41</td>\n",
       "      <td>2</td>\n",
       "      <td>1</td>\n",
       "      <td>0</td>\n",
       "    </tr>\n",
       "    <tr>\n",
       "      <th>2</th>\n",
       "      <td>44</td>\n",
       "      <td>3</td>\n",
       "      <td>0</td>\n",
       "      <td>1</td>\n",
       "    </tr>\n",
       "    <tr>\n",
       "      <th>3</th>\n",
       "      <td>42</td>\n",
       "      <td>1</td>\n",
       "      <td>0</td>\n",
       "      <td>0</td>\n",
       "    </tr>\n",
       "    <tr>\n",
       "      <th>4</th>\n",
       "      <td>40</td>\n",
       "      <td>2</td>\n",
       "      <td>1</td>\n",
       "      <td>0</td>\n",
       "    </tr>\n",
       "  </tbody>\n",
       "</table>\n",
       "</div>"
      ],
      "text/plain": [
       "   math  prog  2  3\n",
       "0    41     1  0  0\n",
       "1    41     2  1  0\n",
       "2    44     3  0  1\n",
       "3    42     1  0  0\n",
       "4    40     2  1  0"
      ]
     },
     "execution_count": 9,
     "metadata": {},
     "output_type": "execute_result"
    }
   ],
   "source": [
    "df.head()"
   ]
  },
  {
   "cell_type": "code",
   "execution_count": 10,
   "id": "ae188849",
   "metadata": {},
   "outputs": [],
   "source": [
    "x_train = df.drop('prog',axis=1)\n"
   ]
  },
  {
   "cell_type": "code",
   "execution_count": 11,
   "id": "497d3bd0",
   "metadata": {},
   "outputs": [],
   "source": [
    "y_train=df['prog']\n"
   ]
  },
  {
   "cell_type": "code",
   "execution_count": 12,
   "id": "4e389a24",
   "metadata": {},
   "outputs": [
    {
     "data": {
      "text/html": [
       "<div>\n",
       "<style scoped>\n",
       "    .dataframe tbody tr th:only-of-type {\n",
       "        vertical-align: middle;\n",
       "    }\n",
       "\n",
       "    .dataframe tbody tr th {\n",
       "        vertical-align: top;\n",
       "    }\n",
       "\n",
       "    .dataframe thead th {\n",
       "        text-align: right;\n",
       "    }\n",
       "</style>\n",
       "<table border=\"1\" class=\"dataframe\">\n",
       "  <thead>\n",
       "    <tr style=\"text-align: right;\">\n",
       "      <th></th>\n",
       "      <th>math</th>\n",
       "      <th>2</th>\n",
       "      <th>3</th>\n",
       "    </tr>\n",
       "  </thead>\n",
       "  <tbody>\n",
       "    <tr>\n",
       "      <th>0</th>\n",
       "      <td>41</td>\n",
       "      <td>0</td>\n",
       "      <td>0</td>\n",
       "    </tr>\n",
       "    <tr>\n",
       "      <th>1</th>\n",
       "      <td>41</td>\n",
       "      <td>1</td>\n",
       "      <td>0</td>\n",
       "    </tr>\n",
       "    <tr>\n",
       "      <th>2</th>\n",
       "      <td>44</td>\n",
       "      <td>0</td>\n",
       "      <td>1</td>\n",
       "    </tr>\n",
       "    <tr>\n",
       "      <th>3</th>\n",
       "      <td>42</td>\n",
       "      <td>0</td>\n",
       "      <td>0</td>\n",
       "    </tr>\n",
       "    <tr>\n",
       "      <th>4</th>\n",
       "      <td>40</td>\n",
       "      <td>1</td>\n",
       "      <td>0</td>\n",
       "    </tr>\n",
       "  </tbody>\n",
       "</table>\n",
       "</div>"
      ],
      "text/plain": [
       "   math  2  3\n",
       "0    41  0  0\n",
       "1    41  1  0\n",
       "2    44  0  1\n",
       "3    42  0  0\n",
       "4    40  1  0"
      ]
     },
     "execution_count": 12,
     "metadata": {},
     "output_type": "execute_result"
    }
   ],
   "source": [
    "x_train.head()"
   ]
  },
  {
   "cell_type": "code",
   "execution_count": 13,
   "id": "6fa73aa4",
   "metadata": {},
   "outputs": [
    {
     "data": {
      "text/plain": [
       "0    1\n",
       "1    2\n",
       "2    3\n",
       "3    1\n",
       "4    2\n",
       "Name: prog, dtype: int64"
      ]
     },
     "execution_count": 13,
     "metadata": {},
     "output_type": "execute_result"
    }
   ],
   "source": [
    "y_train.head()"
   ]
  },
  {
   "cell_type": "code",
   "execution_count": null,
   "id": "1c5ebd98",
   "metadata": {},
   "outputs": [],
   "source": [
    "mod1 = sm.MNLogit(y_train,x_train).fit()\n"
   ]
  },
  {
   "cell_type": "code",
   "execution_count": 15,
   "id": "48241f06",
   "metadata": {},
   "outputs": [
    {
     "name": "stdout",
     "output_type": "stream",
     "text": [
      "                          MNLogit Regression Results                          \n",
      "==============================================================================\n",
      "Dep. Variable:                   prog   No. Observations:                  200\n",
      "Model:                        MNLogit   Df Residuals:                      194\n",
      "Method:                           MLE   Df Model:                            4\n",
      "Date:                Mon, 26 Dec 2022   Pseudo R-squ.:                  0.2395\n",
      "Time:                        10:29:51   Log-Likelihood:                -157.82\n",
      "converged:                       True   LL-Null:                       -207.52\n",
      "Covariance Type:            nonrobust   LLR p-value:                 1.332e-20\n",
      "==============================================================================\n",
      "    prog=2       coef    std err          z      P>|z|      [0.025      0.975]\n",
      "------------------------------------------------------------------------------\n",
      "math          -0.0182      0.007     -2.630      0.009      -0.032      -0.005\n",
      "2              3.1067      0.569      5.464      0.000       1.992       4.221\n",
      "3              3.2378      1.126      2.876      0.004       1.031       5.445\n",
      "------------------------------------------------------------------------------\n",
      "    prog=3       coef    std err          z      P>|z|      [0.025      0.975]\n",
      "------------------------------------------------------------------------------\n",
      "math          -0.0247      0.008     -3.190      0.001      -0.040      -0.010\n",
      "2              3.1497      0.601      5.239      0.000       1.971       4.328\n",
      "3              5.2766      1.105      4.777      0.000       3.112       7.442\n",
      "==============================================================================\n"
     ]
    }
   ],
   "source": [
    "print(mod1.summary())\n"
   ]
  },
  {
   "cell_type": "code",
   "execution_count": 18,
   "id": "e20086d6",
   "metadata": {},
   "outputs": [],
   "source": [
    "#Ho: choice between prog1 and prog2 does not depend on the math score\n",
    "#Ho: choice between prog1 and prog2 does not depend on whether you are from ses=1 (low) or ses=2 (middle)\n",
    "#Ho: choice between prog1 and prog2 does not depend on whether you are from ses=1 (low) or ses=3 (high)"
   ]
  },
  {
   "cell_type": "code",
   "execution_count": 19,
   "id": "2c024011",
   "metadata": {},
   "outputs": [],
   "source": [
    "#choice b/w prog1 and prog2 does not depend on math score\n",
    "#Ho is rejected\n",
    "#choice b/w prog1 and prog2 depends on math score\n"
   ]
  },
  {
   "cell_type": "code",
   "execution_count": 20,
   "id": "358776f7",
   "metadata": {},
   "outputs": [],
   "source": [
    "mydata = pd.DataFrame([[60,0,0],[60,1,0],[60,0,1]], columns=['math','2','3'])\n"
   ]
  },
  {
   "cell_type": "code",
   "execution_count": 21,
   "id": "060446fb",
   "metadata": {},
   "outputs": [],
   "source": [
    "pred = mod1.predict(mydata)\n"
   ]
  },
  {
   "cell_type": "code",
   "execution_count": 23,
   "id": "a0ad5212",
   "metadata": {},
   "outputs": [
    {
     "data": {
      "text/html": [
       "<div>\n",
       "<style scoped>\n",
       "    .dataframe tbody tr th:only-of-type {\n",
       "        vertical-align: middle;\n",
       "    }\n",
       "\n",
       "    .dataframe tbody tr th {\n",
       "        vertical-align: top;\n",
       "    }\n",
       "\n",
       "    .dataframe thead th {\n",
       "        text-align: right;\n",
       "    }\n",
       "</style>\n",
       "<table border=\"1\" class=\"dataframe\">\n",
       "  <thead>\n",
       "    <tr style=\"text-align: right;\">\n",
       "      <th></th>\n",
       "      <th>0</th>\n",
       "      <th>1</th>\n",
       "      <th>2</th>\n",
       "    </tr>\n",
       "  </thead>\n",
       "  <tbody>\n",
       "    <tr>\n",
       "      <th>0</th>\n",
       "      <td>0.639683</td>\n",
       "      <td>0.214742</td>\n",
       "      <td>0.145574</td>\n",
       "    </tr>\n",
       "    <tr>\n",
       "      <th>1</th>\n",
       "      <td>0.072404</td>\n",
       "      <td>0.543186</td>\n",
       "      <td>0.384410</td>\n",
       "    </tr>\n",
       "    <tr>\n",
       "      <th>2</th>\n",
       "      <td>0.018488</td>\n",
       "      <td>0.158123</td>\n",
       "      <td>0.823388</td>\n",
       "    </tr>\n",
       "  </tbody>\n",
       "</table>\n",
       "</div>"
      ],
      "text/plain": [
       "          0         1         2\n",
       "0  0.639683  0.214742  0.145574\n",
       "1  0.072404  0.543186  0.384410\n",
       "2  0.018488  0.158123  0.823388"
      ]
     },
     "execution_count": 23,
     "metadata": {},
     "output_type": "execute_result"
    }
   ],
   "source": [
    "pred\n"
   ]
  },
  {
   "cell_type": "markdown",
   "id": "97910aae",
   "metadata": {},
   "source": [
    "# ordinal logistic regression"
   ]
  },
  {
   "cell_type": "code",
   "execution_count": 24,
   "id": "158e253b",
   "metadata": {},
   "outputs": [],
   "source": [
    "#response in the ordinal scale .diff categories will have a logical order"
   ]
  },
  {
   "cell_type": "code",
   "execution_count": 26,
   "id": "73400d1a",
   "metadata": {},
   "outputs": [],
   "source": [
    "import sys"
   ]
  },
  {
   "cell_type": "code",
   "execution_count": 32,
   "id": "ff76a2e5",
   "metadata": {},
   "outputs": [],
   "source": [
    "sys.path.append(r'C:\\Users\\ZS283MZ\\CDAC-Advanced_Statistical_Analysis\\mord-0.6')\n"
   ]
  },
  {
   "cell_type": "code",
   "execution_count": 33,
   "id": "8054400e",
   "metadata": {},
   "outputs": [],
   "source": [
    "import mord"
   ]
  },
  {
   "cell_type": "code",
   "execution_count": 34,
   "id": "7e8bbfdd",
   "metadata": {},
   "outputs": [],
   "source": [
    "df = pd.read_excel('CDAC_DataBook.xlsx', sheet_name='ordinal')"
   ]
  },
  {
   "cell_type": "code",
   "execution_count": 35,
   "id": "fc95d422",
   "metadata": {},
   "outputs": [
    {
     "data": {
      "text/html": [
       "<div>\n",
       "<style scoped>\n",
       "    .dataframe tbody tr th:only-of-type {\n",
       "        vertical-align: middle;\n",
       "    }\n",
       "\n",
       "    .dataframe tbody tr th {\n",
       "        vertical-align: top;\n",
       "    }\n",
       "\n",
       "    .dataframe thead th {\n",
       "        text-align: right;\n",
       "    }\n",
       "</style>\n",
       "<table border=\"1\" class=\"dataframe\">\n",
       "  <thead>\n",
       "    <tr style=\"text-align: right;\">\n",
       "      <th></th>\n",
       "      <th>Survival</th>\n",
       "      <th>Region</th>\n",
       "      <th>ToxicLevel</th>\n",
       "    </tr>\n",
       "  </thead>\n",
       "  <tbody>\n",
       "    <tr>\n",
       "      <th>0</th>\n",
       "      <td>1</td>\n",
       "      <td>1</td>\n",
       "      <td>62.0</td>\n",
       "    </tr>\n",
       "    <tr>\n",
       "      <th>1</th>\n",
       "      <td>1</td>\n",
       "      <td>2</td>\n",
       "      <td>46.0</td>\n",
       "    </tr>\n",
       "    <tr>\n",
       "      <th>2</th>\n",
       "      <td>2</td>\n",
       "      <td>1</td>\n",
       "      <td>48.5</td>\n",
       "    </tr>\n",
       "    <tr>\n",
       "      <th>3</th>\n",
       "      <td>3</td>\n",
       "      <td>2</td>\n",
       "      <td>32.0</td>\n",
       "    </tr>\n",
       "    <tr>\n",
       "      <th>4</th>\n",
       "      <td>2</td>\n",
       "      <td>1</td>\n",
       "      <td>63.5</td>\n",
       "    </tr>\n",
       "  </tbody>\n",
       "</table>\n",
       "</div>"
      ],
      "text/plain": [
       "   Survival  Region  ToxicLevel\n",
       "0         1       1        62.0\n",
       "1         1       2        46.0\n",
       "2         2       1        48.5\n",
       "3         3       2        32.0\n",
       "4         2       1        63.5"
      ]
     },
     "execution_count": 35,
     "metadata": {},
     "output_type": "execute_result"
    }
   ],
   "source": [
    "df.head()"
   ]
  },
  {
   "cell_type": "code",
   "execution_count": 36,
   "id": "852541dc",
   "metadata": {},
   "outputs": [],
   "source": [
    "reg_dummy = pd.get_dummies(df['Region'], drop_first=True)\n"
   ]
  },
  {
   "cell_type": "code",
   "execution_count": 37,
   "id": "df1ab9aa",
   "metadata": {},
   "outputs": [],
   "source": [
    "df = df.drop('Region', axis=1)\n"
   ]
  },
  {
   "cell_type": "code",
   "execution_count": 38,
   "id": "c7e060a1",
   "metadata": {},
   "outputs": [],
   "source": [
    "df = pd.concat([df,reg_dummy], axis=1)\n"
   ]
  },
  {
   "cell_type": "code",
   "execution_count": 39,
   "id": "bbccf112",
   "metadata": {},
   "outputs": [],
   "source": [
    "x_train, x_test, y_train, y_test = train_test_split(df.drop('Survival', axis=1), df['Survival'], test_size=0.20)\n"
   ]
  },
  {
   "cell_type": "code",
   "execution_count": 40,
   "id": "ac6ca70e",
   "metadata": {},
   "outputs": [],
   "source": [
    "from mord import LogisticAT\n"
   ]
  },
  {
   "cell_type": "code",
   "execution_count": 41,
   "id": "daf058a8",
   "metadata": {},
   "outputs": [],
   "source": [
    "mod2 = LogisticAT().fit(x_train, y_train)\n"
   ]
  },
  {
   "cell_type": "code",
   "execution_count": 42,
   "id": "da00c10c",
   "metadata": {},
   "outputs": [],
   "source": [
    "y_pred = mod2.predict(x_test)\n"
   ]
  },
  {
   "cell_type": "code",
   "execution_count": 43,
   "id": "582b8584",
   "metadata": {},
   "outputs": [],
   "source": [
    "from sklearn.metrics import confusion_matrix\n"
   ]
  },
  {
   "cell_type": "code",
   "execution_count": 45,
   "id": "8f8198d7",
   "metadata": {},
   "outputs": [
    {
     "name": "stdout",
     "output_type": "stream",
     "text": [
      "[[0 4 0]\n",
      " [1 6 0]\n",
      " [1 3 0]]\n"
     ]
    }
   ],
   "source": [
    "print(confusion_matrix(y_test, y_pred))\n"
   ]
  },
  {
   "cell_type": "code",
   "execution_count": 46,
   "id": "d60a1a5e",
   "metadata": {},
   "outputs": [],
   "source": [
    "from sklearn.metrics import classification_report\n"
   ]
  },
  {
   "cell_type": "code",
   "execution_count": 48,
   "id": "73953678",
   "metadata": {},
   "outputs": [
    {
     "name": "stdout",
     "output_type": "stream",
     "text": [
      "              precision    recall  f1-score   support\n",
      "\n",
      "           1       0.00      0.00      0.00         4\n",
      "           2       0.46      0.86      0.60         7\n",
      "           3       0.00      0.00      0.00         4\n",
      "\n",
      "    accuracy                           0.40        15\n",
      "   macro avg       0.15      0.29      0.20        15\n",
      "weighted avg       0.22      0.40      0.28        15\n",
      "\n"
     ]
    },
    {
     "name": "stderr",
     "output_type": "stream",
     "text": [
      "C:\\Anaconda\\lib\\site-packages\\sklearn\\metrics\\_classification.py:1318: UndefinedMetricWarning: Precision and F-score are ill-defined and being set to 0.0 in labels with no predicted samples. Use `zero_division` parameter to control this behavior.\n",
      "  _warn_prf(average, modifier, msg_start, len(result))\n",
      "C:\\Anaconda\\lib\\site-packages\\sklearn\\metrics\\_classification.py:1318: UndefinedMetricWarning: Precision and F-score are ill-defined and being set to 0.0 in labels with no predicted samples. Use `zero_division` parameter to control this behavior.\n",
      "  _warn_prf(average, modifier, msg_start, len(result))\n",
      "C:\\Anaconda\\lib\\site-packages\\sklearn\\metrics\\_classification.py:1318: UndefinedMetricWarning: Precision and F-score are ill-defined and being set to 0.0 in labels with no predicted samples. Use `zero_division` parameter to control this behavior.\n",
      "  _warn_prf(average, modifier, msg_start, len(result))\n"
     ]
    }
   ],
   "source": [
    "print(classification_report(y_test, y_pred))\n"
   ]
  },
  {
   "cell_type": "code",
   "execution_count": 50,
   "id": "cba67060",
   "metadata": {},
   "outputs": [],
   "source": [
    "mydata = pd.DataFrame([[30,1],[40,1],[50,1],[70,1]], columns=['ToxicLevel','2'])\n",
    "\n"
   ]
  },
  {
   "cell_type": "code",
   "execution_count": 51,
   "id": "4786a419",
   "metadata": {},
   "outputs": [],
   "source": [
    "pred = mod2.predict(mydata)\n"
   ]
  },
  {
   "cell_type": "code",
   "execution_count": 52,
   "id": "461d765b",
   "metadata": {},
   "outputs": [
    {
     "data": {
      "text/plain": [
       "array([2, 2, 2, 1])"
      ]
     },
     "execution_count": 52,
     "metadata": {},
     "output_type": "execute_result"
    }
   ],
   "source": [
    "pred"
   ]
  },
  {
   "cell_type": "code",
   "execution_count": 53,
   "id": "2cacd058",
   "metadata": {},
   "outputs": [
    {
     "data": {
      "text/html": [
       "<div>\n",
       "<style scoped>\n",
       "    .dataframe tbody tr th:only-of-type {\n",
       "        vertical-align: middle;\n",
       "    }\n",
       "\n",
       "    .dataframe tbody tr th {\n",
       "        vertical-align: top;\n",
       "    }\n",
       "\n",
       "    .dataframe thead th {\n",
       "        text-align: right;\n",
       "    }\n",
       "</style>\n",
       "<table border=\"1\" class=\"dataframe\">\n",
       "  <thead>\n",
       "    <tr style=\"text-align: right;\">\n",
       "      <th></th>\n",
       "      <th>ToxicLevel</th>\n",
       "      <th>2</th>\n",
       "    </tr>\n",
       "  </thead>\n",
       "  <tbody>\n",
       "    <tr>\n",
       "      <th>0</th>\n",
       "      <td>30</td>\n",
       "      <td>1</td>\n",
       "    </tr>\n",
       "    <tr>\n",
       "      <th>1</th>\n",
       "      <td>40</td>\n",
       "      <td>1</td>\n",
       "    </tr>\n",
       "    <tr>\n",
       "      <th>2</th>\n",
       "      <td>50</td>\n",
       "      <td>1</td>\n",
       "    </tr>\n",
       "    <tr>\n",
       "      <th>3</th>\n",
       "      <td>70</td>\n",
       "      <td>1</td>\n",
       "    </tr>\n",
       "  </tbody>\n",
       "</table>\n",
       "</div>"
      ],
      "text/plain": [
       "   ToxicLevel  2\n",
       "0          30  1\n",
       "1          40  1\n",
       "2          50  1\n",
       "3          70  1"
      ]
     },
     "execution_count": 53,
     "metadata": {},
     "output_type": "execute_result"
    }
   ],
   "source": [
    "mydata.head()"
   ]
  },
  {
   "cell_type": "markdown",
   "id": "74da738e",
   "metadata": {},
   "source": [
    "# count models\n"
   ]
  },
  {
   "cell_type": "code",
   "execution_count": 54,
   "id": "00c9c8af",
   "metadata": {},
   "outputs": [],
   "source": [
    "#response is a discrete data - response is in counts \n",
    "#poisson ,negative_binomial\n",
    "#poisson- low varation in the response values\n",
    "#negative binomial - high variation in the response values"
   ]
  },
  {
   "cell_type": "code",
   "execution_count": 55,
   "id": "460bbafd",
   "metadata": {},
   "outputs": [],
   "source": [
    "import statsmodels.formula.api as smf\n",
    "from statsmodels.discrete.discrete_model import Poisson as psn\n"
   ]
  },
  {
   "cell_type": "code",
   "execution_count": 56,
   "id": "d2087fb2",
   "metadata": {},
   "outputs": [],
   "source": [
    "df = pd.read_excel('CDAC_DataBook.xlsx', sheet_name='poisson')\n"
   ]
  },
  {
   "cell_type": "code",
   "execution_count": 57,
   "id": "2352379b",
   "metadata": {},
   "outputs": [
    {
     "data": {
      "text/html": [
       "<div>\n",
       "<style scoped>\n",
       "    .dataframe tbody tr th:only-of-type {\n",
       "        vertical-align: middle;\n",
       "    }\n",
       "\n",
       "    .dataframe tbody tr th {\n",
       "        vertical-align: top;\n",
       "    }\n",
       "\n",
       "    .dataframe thead th {\n",
       "        text-align: right;\n",
       "    }\n",
       "</style>\n",
       "<table border=\"1\" class=\"dataframe\">\n",
       "  <thead>\n",
       "    <tr style=\"text-align: right;\">\n",
       "      <th></th>\n",
       "      <th>num_awards</th>\n",
       "      <th>prog</th>\n",
       "      <th>math</th>\n",
       "    </tr>\n",
       "  </thead>\n",
       "  <tbody>\n",
       "    <tr>\n",
       "      <th>0</th>\n",
       "      <td>0</td>\n",
       "      <td>3</td>\n",
       "      <td>41</td>\n",
       "    </tr>\n",
       "    <tr>\n",
       "      <th>1</th>\n",
       "      <td>0</td>\n",
       "      <td>1</td>\n",
       "      <td>41</td>\n",
       "    </tr>\n",
       "    <tr>\n",
       "      <th>2</th>\n",
       "      <td>0</td>\n",
       "      <td>3</td>\n",
       "      <td>44</td>\n",
       "    </tr>\n",
       "    <tr>\n",
       "      <th>3</th>\n",
       "      <td>0</td>\n",
       "      <td>3</td>\n",
       "      <td>42</td>\n",
       "    </tr>\n",
       "    <tr>\n",
       "      <th>4</th>\n",
       "      <td>0</td>\n",
       "      <td>3</td>\n",
       "      <td>40</td>\n",
       "    </tr>\n",
       "  </tbody>\n",
       "</table>\n",
       "</div>"
      ],
      "text/plain": [
       "   num_awards  prog  math\n",
       "0           0     3    41\n",
       "1           0     1    41\n",
       "2           0     3    44\n",
       "3           0     3    42\n",
       "4           0     3    40"
      ]
     },
     "execution_count": 57,
     "metadata": {},
     "output_type": "execute_result"
    }
   ],
   "source": [
    "df.head()"
   ]
  },
  {
   "cell_type": "code",
   "execution_count": 58,
   "id": "5e3ca802",
   "metadata": {},
   "outputs": [],
   "source": [
    "prog_dummy = pd.get_dummies(df['prog'], drop_first=True)\n"
   ]
  },
  {
   "cell_type": "code",
   "execution_count": 59,
   "id": "57e4712f",
   "metadata": {},
   "outputs": [],
   "source": [
    "df = df.drop('prog', axis=1)\n",
    "\n"
   ]
  },
  {
   "cell_type": "code",
   "execution_count": 60,
   "id": "88879af2",
   "metadata": {},
   "outputs": [],
   "source": [
    "df = pd.concat([df,prog_dummy], axis=1)\n"
   ]
  },
  {
   "cell_type": "code",
   "execution_count": 61,
   "id": "b10d936a",
   "metadata": {},
   "outputs": [
    {
     "data": {
      "text/html": [
       "<div>\n",
       "<style scoped>\n",
       "    .dataframe tbody tr th:only-of-type {\n",
       "        vertical-align: middle;\n",
       "    }\n",
       "\n",
       "    .dataframe tbody tr th {\n",
       "        vertical-align: top;\n",
       "    }\n",
       "\n",
       "    .dataframe thead th {\n",
       "        text-align: right;\n",
       "    }\n",
       "</style>\n",
       "<table border=\"1\" class=\"dataframe\">\n",
       "  <thead>\n",
       "    <tr style=\"text-align: right;\">\n",
       "      <th></th>\n",
       "      <th>num_awards</th>\n",
       "      <th>math</th>\n",
       "      <th>2</th>\n",
       "      <th>3</th>\n",
       "    </tr>\n",
       "  </thead>\n",
       "  <tbody>\n",
       "    <tr>\n",
       "      <th>0</th>\n",
       "      <td>0</td>\n",
       "      <td>41</td>\n",
       "      <td>0</td>\n",
       "      <td>1</td>\n",
       "    </tr>\n",
       "    <tr>\n",
       "      <th>1</th>\n",
       "      <td>0</td>\n",
       "      <td>41</td>\n",
       "      <td>0</td>\n",
       "      <td>0</td>\n",
       "    </tr>\n",
       "    <tr>\n",
       "      <th>2</th>\n",
       "      <td>0</td>\n",
       "      <td>44</td>\n",
       "      <td>0</td>\n",
       "      <td>1</td>\n",
       "    </tr>\n",
       "    <tr>\n",
       "      <th>3</th>\n",
       "      <td>0</td>\n",
       "      <td>42</td>\n",
       "      <td>0</td>\n",
       "      <td>1</td>\n",
       "    </tr>\n",
       "    <tr>\n",
       "      <th>4</th>\n",
       "      <td>0</td>\n",
       "      <td>40</td>\n",
       "      <td>0</td>\n",
       "      <td>1</td>\n",
       "    </tr>\n",
       "  </tbody>\n",
       "</table>\n",
       "</div>"
      ],
      "text/plain": [
       "   num_awards  math  2  3\n",
       "0           0    41  0  1\n",
       "1           0    41  0  0\n",
       "2           0    44  0  1\n",
       "3           0    42  0  1\n",
       "4           0    40  0  1"
      ]
     },
     "execution_count": 61,
     "metadata": {},
     "output_type": "execute_result"
    }
   ],
   "source": [
    "df.head()"
   ]
  },
  {
   "cell_type": "code",
   "execution_count": 62,
   "id": "6c2269dd",
   "metadata": {},
   "outputs": [],
   "source": [
    "x_train, x_test, y_train, y_test = train_test_split(df.drop('num_awards',axis=1),df['num_awards'], test_size=0.2)\n"
   ]
  },
  {
   "cell_type": "code",
   "execution_count": 63,
   "id": "e5ccb8d2",
   "metadata": {},
   "outputs": [],
   "source": [
    "x_train = sm.add_constant(x_train)\n"
   ]
  },
  {
   "cell_type": "code",
   "execution_count": 64,
   "id": "4e531858",
   "metadata": {},
   "outputs": [],
   "source": [
    "df_train = pd.concat([x_train,y_train], axis=1)\n"
   ]
  },
  {
   "cell_type": "code",
   "execution_count": 65,
   "id": "b0eeeafc",
   "metadata": {},
   "outputs": [],
   "source": [
    "df_train.columns = ['const','math','prog2','prog3', 'num_awards']\n"
   ]
  },
  {
   "cell_type": "code",
   "execution_count": 66,
   "id": "43318b5d",
   "metadata": {},
   "outputs": [
    {
     "name": "stdout",
     "output_type": "stream",
     "text": [
      "Optimization terminated successfully.\n",
      "         Current function value: 0.870079\n",
      "         Iterations 7\n"
     ]
    }
   ],
   "source": [
    "mod3 = psn.from_formula('num_awards ~ math+prog2+prog3', data=df_train).fit()\n"
   ]
  },
  {
   "cell_type": "code",
   "execution_count": 68,
   "id": "0e1a7b3c",
   "metadata": {},
   "outputs": [
    {
     "name": "stdout",
     "output_type": "stream",
     "text": [
      "                          Poisson Regression Results                          \n",
      "==============================================================================\n",
      "Dep. Variable:             num_awards   No. Observations:                  160\n",
      "Model:                        Poisson   Df Residuals:                      156\n",
      "Method:                           MLE   Df Model:                            3\n",
      "Date:                Mon, 26 Dec 2022   Pseudo R-squ.:                  0.2315\n",
      "Time:                        11:47:32   Log-Likelihood:                -139.21\n",
      "converged:                       True   LL-Null:                       -181.16\n",
      "Covariance Type:            nonrobust   LLR p-value:                 4.492e-18\n",
      "==============================================================================\n",
      "                 coef    std err          z      P>|z|      [0.025      0.975]\n",
      "------------------------------------------------------------------------------\n",
      "Intercept     -5.3654      0.741     -7.242      0.000      -6.818      -3.913\n",
      "math           0.0727      0.012      5.942      0.000       0.049       0.097\n",
      "prog2          0.9654      0.415      2.326      0.020       0.152       1.779\n",
      "prog3          0.0916      0.535      0.171      0.864      -0.957       1.140\n",
      "==============================================================================\n"
     ]
    }
   ],
   "source": [
    "print(mod3.summary())"
   ]
  },
  {
   "cell_type": "code",
   "execution_count": 69,
   "id": "3cd8374a",
   "metadata": {},
   "outputs": [],
   "source": [
    "#Ho: num_awards does not depend on math score\n"
   ]
  },
  {
   "cell_type": "code",
   "execution_count": 70,
   "id": "96cc5a24",
   "metadata": {},
   "outputs": [],
   "source": [
    "#Ho: num_awards does not depend on math score\n",
    "#Ho: num_awards do not change if we change our course from prog1 to prog2\n",
    "#Ho: num_awards do not change if we change our course from prog1 to prog3\n"
   ]
  },
  {
   "cell_type": "markdown",
   "id": "6024b335",
   "metadata": {},
   "source": [
    "# negative regression"
   ]
  },
  {
   "cell_type": "code",
   "execution_count": 71,
   "id": "35006da8",
   "metadata": {},
   "outputs": [],
   "source": [
    "df = pd.read_excel('CDAC_DataBook.xlsx', sheet_name='neg_bin')"
   ]
  },
  {
   "cell_type": "code",
   "execution_count": 72,
   "id": "d6de489d",
   "metadata": {},
   "outputs": [
    {
     "data": {
      "text/html": [
       "<div>\n",
       "<style scoped>\n",
       "    .dataframe tbody tr th:only-of-type {\n",
       "        vertical-align: middle;\n",
       "    }\n",
       "\n",
       "    .dataframe tbody tr th {\n",
       "        vertical-align: top;\n",
       "    }\n",
       "\n",
       "    .dataframe thead th {\n",
       "        text-align: right;\n",
       "    }\n",
       "</style>\n",
       "<table border=\"1\" class=\"dataframe\">\n",
       "  <thead>\n",
       "    <tr style=\"text-align: right;\">\n",
       "      <th></th>\n",
       "      <th>math</th>\n",
       "      <th>prog</th>\n",
       "      <th>daysabs</th>\n",
       "    </tr>\n",
       "  </thead>\n",
       "  <tbody>\n",
       "    <tr>\n",
       "      <th>0</th>\n",
       "      <td>63</td>\n",
       "      <td>Academic</td>\n",
       "      <td>4</td>\n",
       "    </tr>\n",
       "    <tr>\n",
       "      <th>1</th>\n",
       "      <td>27</td>\n",
       "      <td>Academic</td>\n",
       "      <td>4</td>\n",
       "    </tr>\n",
       "    <tr>\n",
       "      <th>2</th>\n",
       "      <td>20</td>\n",
       "      <td>Academic</td>\n",
       "      <td>2</td>\n",
       "    </tr>\n",
       "    <tr>\n",
       "      <th>3</th>\n",
       "      <td>16</td>\n",
       "      <td>Academic</td>\n",
       "      <td>3</td>\n",
       "    </tr>\n",
       "    <tr>\n",
       "      <th>4</th>\n",
       "      <td>2</td>\n",
       "      <td>Academic</td>\n",
       "      <td>3</td>\n",
       "    </tr>\n",
       "  </tbody>\n",
       "</table>\n",
       "</div>"
      ],
      "text/plain": [
       "   math      prog  daysabs\n",
       "0    63  Academic        4\n",
       "1    27  Academic        4\n",
       "2    20  Academic        2\n",
       "3    16  Academic        3\n",
       "4     2  Academic        3"
      ]
     },
     "execution_count": 72,
     "metadata": {},
     "output_type": "execute_result"
    }
   ],
   "source": [
    "df.head()"
   ]
  },
  {
   "cell_type": "code",
   "execution_count": 73,
   "id": "5990c30c",
   "metadata": {},
   "outputs": [],
   "source": [
    "import statsmodels.formula.api as smf\n",
    "from statsmodels.discrete.discrete_model import NegativeBinomial as ngb\n"
   ]
  },
  {
   "cell_type": "code",
   "execution_count": 74,
   "id": "c87f45ff",
   "metadata": {},
   "outputs": [],
   "source": [
    "prog_dummy = pd.get_dummies(df['prog'], drop_first = True)\n"
   ]
  },
  {
   "cell_type": "code",
   "execution_count": 75,
   "id": "c5717c4b",
   "metadata": {},
   "outputs": [],
   "source": [
    "df = df.drop('prog', axis=1)\n"
   ]
  },
  {
   "cell_type": "code",
   "execution_count": 76,
   "id": "54ee9bf2",
   "metadata": {},
   "outputs": [],
   "source": [
    "df = pd.concat([df,prog_dummy], axis=1)\n"
   ]
  },
  {
   "cell_type": "code",
   "execution_count": 77,
   "id": "af77b777",
   "metadata": {},
   "outputs": [
    {
     "data": {
      "text/html": [
       "<div>\n",
       "<style scoped>\n",
       "    .dataframe tbody tr th:only-of-type {\n",
       "        vertical-align: middle;\n",
       "    }\n",
       "\n",
       "    .dataframe tbody tr th {\n",
       "        vertical-align: top;\n",
       "    }\n",
       "\n",
       "    .dataframe thead th {\n",
       "        text-align: right;\n",
       "    }\n",
       "</style>\n",
       "<table border=\"1\" class=\"dataframe\">\n",
       "  <thead>\n",
       "    <tr style=\"text-align: right;\">\n",
       "      <th></th>\n",
       "      <th>math</th>\n",
       "      <th>daysabs</th>\n",
       "      <th>General</th>\n",
       "      <th>Vocational</th>\n",
       "    </tr>\n",
       "  </thead>\n",
       "  <tbody>\n",
       "    <tr>\n",
       "      <th>0</th>\n",
       "      <td>63</td>\n",
       "      <td>4</td>\n",
       "      <td>0</td>\n",
       "      <td>0</td>\n",
       "    </tr>\n",
       "    <tr>\n",
       "      <th>1</th>\n",
       "      <td>27</td>\n",
       "      <td>4</td>\n",
       "      <td>0</td>\n",
       "      <td>0</td>\n",
       "    </tr>\n",
       "    <tr>\n",
       "      <th>2</th>\n",
       "      <td>20</td>\n",
       "      <td>2</td>\n",
       "      <td>0</td>\n",
       "      <td>0</td>\n",
       "    </tr>\n",
       "    <tr>\n",
       "      <th>3</th>\n",
       "      <td>16</td>\n",
       "      <td>3</td>\n",
       "      <td>0</td>\n",
       "      <td>0</td>\n",
       "    </tr>\n",
       "    <tr>\n",
       "      <th>4</th>\n",
       "      <td>2</td>\n",
       "      <td>3</td>\n",
       "      <td>0</td>\n",
       "      <td>0</td>\n",
       "    </tr>\n",
       "  </tbody>\n",
       "</table>\n",
       "</div>"
      ],
      "text/plain": [
       "   math  daysabs  General  Vocational\n",
       "0    63        4        0           0\n",
       "1    27        4        0           0\n",
       "2    20        2        0           0\n",
       "3    16        3        0           0\n",
       "4     2        3        0           0"
      ]
     },
     "execution_count": 77,
     "metadata": {},
     "output_type": "execute_result"
    }
   ],
   "source": [
    "df.head()\n"
   ]
  },
  {
   "cell_type": "code",
   "execution_count": 78,
   "id": "6e4046ee",
   "metadata": {},
   "outputs": [],
   "source": [
    "#academic course taken as ref event"
   ]
  },
  {
   "cell_type": "code",
   "execution_count": 79,
   "id": "3e2678fd",
   "metadata": {},
   "outputs": [],
   "source": [
    "x_train, x_test, y_train, y_test = train_test_split(df.drop('daysabs', axis=1), df['daysabs'], test_size=0.2)\n"
   ]
  },
  {
   "cell_type": "code",
   "execution_count": 80,
   "id": "cefc8756",
   "metadata": {},
   "outputs": [],
   "source": [
    "x_train = sm.add_constant(x_train)\n"
   ]
  },
  {
   "cell_type": "code",
   "execution_count": 81,
   "id": "e2e47dbc",
   "metadata": {},
   "outputs": [],
   "source": [
    "df_train = pd.concat([x_train, y_train], axis=1)\n"
   ]
  },
  {
   "cell_type": "code",
   "execution_count": 82,
   "id": "766b13da",
   "metadata": {},
   "outputs": [
    {
     "name": "stdout",
     "output_type": "stream",
     "text": [
      "Optimization terminated successfully.\n",
      "         Current function value: 2.836099\n",
      "         Iterations: 21\n",
      "         Function evaluations: 27\n",
      "         Gradient evaluations: 27\n"
     ]
    }
   ],
   "source": [
    "mod4 = ngb.from_formula(\"daysabs ~ math+General+Vocational\", data=df_train).fit()\n"
   ]
  },
  {
   "cell_type": "code",
   "execution_count": 83,
   "id": "fc3a36d1",
   "metadata": {},
   "outputs": [
    {
     "name": "stdout",
     "output_type": "stream",
     "text": [
      "                     NegativeBinomial Regression Results                      \n",
      "==============================================================================\n",
      "Dep. Variable:                daysabs   No. Observations:                  251\n",
      "Model:               NegativeBinomial   Df Residuals:                      247\n",
      "Method:                           MLE   Df Model:                            3\n",
      "Date:                Mon, 26 Dec 2022   Pseudo R-squ.:                 0.03026\n",
      "Time:                        12:46:19   Log-Likelihood:                -711.86\n",
      "converged:                       True   LL-Null:                       -734.07\n",
      "Covariance Type:            nonrobust   LLR p-value:                 1.225e-09\n",
      "==============================================================================\n",
      "                 coef    std err          z      P>|z|      [0.025      0.975]\n",
      "------------------------------------------------------------------------------\n",
      "Intercept      2.1697      0.146     14.887      0.000       1.884       2.455\n",
      "math          -0.0053      0.003     -1.910      0.056      -0.011       0.000\n",
      "General        0.4856      0.197      2.467      0.014       0.100       0.871\n",
      "Vocational    -0.7721      0.165     -4.679      0.000      -1.095      -0.449\n",
      "alpha          0.9800      0.109      8.988      0.000       0.766       1.194\n",
      "==============================================================================\n"
     ]
    }
   ],
   "source": [
    "print(mod4.summary())"
   ]
  },
  {
   "cell_type": "code",
   "execution_count": 84,
   "id": "7657c3df",
   "metadata": {},
   "outputs": [],
   "source": [
    "#Ho days of absence does not depend on math score\n",
    "#Ho days of absence do not change if we go from academic course to general course\n",
    "#Ho days of absence do not change if we go from academic course to vocational course\n",
    "#Ho for math gets rejected (p-value<0.05)\n",
    "#Concl: days of absence depends on the math score\n"
   ]
  },
  {
   "cell_type": "code",
   "execution_count": 85,
   "id": "328d8986",
   "metadata": {},
   "outputs": [],
   "source": [
    "#As the math score increases, the days of absence will decrease\n",
    "#Assuming that thep-value for General is more than 0.05\n",
    "#Ho for the General will NOT be rejected\n",
    "#Conl: days of absence os the same for two students - one from Academic and the other from General (for the same math score)\n",
    "#Going from academic to general, days of absence will increase but this is not statistically significant because p-value > 0.05\n"
   ]
  },
  {
   "cell_type": "code",
   "execution_count": 86,
   "id": "5fa7ef44",
   "metadata": {},
   "outputs": [],
   "source": [
    "#Ho for the Vocational will be rejected\n",
    "#Conl: days of absence is NOT the same for two students - one from Academic and the other from Vocational (for the same math score)\n",
    "#Going from academic to vocational, days of absence will decrease and this is statistically significant because p-value < 0.05\n"
   ]
  },
  {
   "cell_type": "code",
   "execution_count": 87,
   "id": "0e517058",
   "metadata": {},
   "outputs": [],
   "source": [
    "x_test = sm.add_constant(x_test)\n"
   ]
  },
  {
   "cell_type": "code",
   "execution_count": 88,
   "id": "feb7595f",
   "metadata": {},
   "outputs": [],
   "source": [
    "pred = round(mod4.predict(x_test))\n"
   ]
  },
  {
   "cell_type": "code",
   "execution_count": 89,
   "id": "0271e81a",
   "metadata": {},
   "outputs": [
    {
     "data": {
      "text/plain": [
       "223    6.0\n",
       "313    3.0\n",
       "158    3.0\n",
       "18     9.0\n",
       "103    9.0\n",
       "      ... \n",
       "200    3.0\n",
       "69     7.0\n",
       "175    3.0\n",
       "203    3.0\n",
       "291    7.0\n",
       "Length: 63, dtype: float64"
      ]
     },
     "execution_count": 89,
     "metadata": {},
     "output_type": "execute_result"
    }
   ],
   "source": [
    "pred"
   ]
  },
  {
   "cell_type": "code",
   "execution_count": 90,
   "id": "b85fa354",
   "metadata": {},
   "outputs": [],
   "source": [
    "mydata = pd.DataFrame([[1,40,1,0],[1,60,1,0],[1,80,1,0]], columns=['const','math','General','Vocational'])\n"
   ]
  },
  {
   "cell_type": "code",
   "execution_count": 91,
   "id": "f9cd126d",
   "metadata": {},
   "outputs": [
    {
     "data": {
      "text/plain": [
       "0    11.510443\n",
       "1    10.352387\n",
       "2     9.310842\n",
       "dtype: float64"
      ]
     },
     "execution_count": 91,
     "metadata": {},
     "output_type": "execute_result"
    }
   ],
   "source": [
    "mod4.predict(mydata)"
   ]
  },
  {
   "cell_type": "code",
   "execution_count": 92,
   "id": "80df71cc",
   "metadata": {},
   "outputs": [
    {
     "data": {
      "text/plain": [
       "0    12.0\n",
       "1    10.0\n",
       "2     9.0\n",
       "dtype: float64"
      ]
     },
     "execution_count": 92,
     "metadata": {},
     "output_type": "execute_result"
    }
   ],
   "source": [
    "round(mod4.predict(mydata))"
   ]
  },
  {
   "cell_type": "code",
   "execution_count": 93,
   "id": "72422a74",
   "metadata": {},
   "outputs": [],
   "source": [
    "mydata = pd.DataFrame([[1,50,0,0],[1,50,1,0],[1,50,0,1]], columns=['const','math','General','Vocational'])\n"
   ]
  },
  {
   "cell_type": "code",
   "execution_count": 94,
   "id": "77b44610",
   "metadata": {},
   "outputs": [
    {
     "data": {
      "text/plain": [
       "0     7.0\n",
       "1    11.0\n",
       "2     3.0\n",
       "dtype: float64"
      ]
     },
     "execution_count": 94,
     "metadata": {},
     "output_type": "execute_result"
    }
   ],
   "source": [
    "round(mod4.predict(mydata))"
   ]
  },
  {
   "cell_type": "code",
   "execution_count": 95,
   "id": "a32ad5b0",
   "metadata": {},
   "outputs": [],
   "source": [
    "#multicollinearity\n",
    "#predictors which are heavily correlated with each other\n",
    "# X y\n",
    "# x y\n",
    "#y = 2x + 7+ var(0,0.5)\n"
   ]
  },
  {
   "cell_type": "code",
   "execution_count": 96,
   "id": "c1c00ee1",
   "metadata": {},
   "outputs": [],
   "source": [
    "#Sir it means that for developing any model first we should consider multicollinearity and drop that particular things\n"
   ]
  },
  {
   "cell_type": "code",
   "execution_count": 97,
   "id": "1182d85f",
   "metadata": {},
   "outputs": [],
   "source": [
    "from statsmodels.stats.outliers_influence import variance_inflation_factor\n"
   ]
  },
  {
   "cell_type": "code",
   "execution_count": 98,
   "id": "27e40179",
   "metadata": {},
   "outputs": [],
   "source": [
    "df=pd.read_excel('CDAC_DataBook.xlsx',sheet_name='salaries')"
   ]
  },
  {
   "cell_type": "code",
   "execution_count": 99,
   "id": "8206ef2d",
   "metadata": {},
   "outputs": [
    {
     "data": {
      "text/html": [
       "<div>\n",
       "<style scoped>\n",
       "    .dataframe tbody tr th:only-of-type {\n",
       "        vertical-align: middle;\n",
       "    }\n",
       "\n",
       "    .dataframe tbody tr th {\n",
       "        vertical-align: top;\n",
       "    }\n",
       "\n",
       "    .dataframe thead th {\n",
       "        text-align: right;\n",
       "    }\n",
       "</style>\n",
       "<table border=\"1\" class=\"dataframe\">\n",
       "  <thead>\n",
       "    <tr style=\"text-align: right;\">\n",
       "      <th></th>\n",
       "      <th>rank</th>\n",
       "      <th>discipline</th>\n",
       "      <th>yrs_phd</th>\n",
       "      <th>yrs_service</th>\n",
       "      <th>gender</th>\n",
       "      <th>salary</th>\n",
       "    </tr>\n",
       "  </thead>\n",
       "  <tbody>\n",
       "    <tr>\n",
       "      <th>0</th>\n",
       "      <td>Prof</td>\n",
       "      <td>B</td>\n",
       "      <td>19</td>\n",
       "      <td>18</td>\n",
       "      <td>Male</td>\n",
       "      <td>139750</td>\n",
       "    </tr>\n",
       "    <tr>\n",
       "      <th>1</th>\n",
       "      <td>Prof</td>\n",
       "      <td>B</td>\n",
       "      <td>20</td>\n",
       "      <td>16</td>\n",
       "      <td>Male</td>\n",
       "      <td>173200</td>\n",
       "    </tr>\n",
       "    <tr>\n",
       "      <th>2</th>\n",
       "      <td>AsstProf</td>\n",
       "      <td>B</td>\n",
       "      <td>4</td>\n",
       "      <td>3</td>\n",
       "      <td>Male</td>\n",
       "      <td>79750</td>\n",
       "    </tr>\n",
       "    <tr>\n",
       "      <th>3</th>\n",
       "      <td>Prof</td>\n",
       "      <td>B</td>\n",
       "      <td>45</td>\n",
       "      <td>39</td>\n",
       "      <td>Male</td>\n",
       "      <td>115000</td>\n",
       "    </tr>\n",
       "    <tr>\n",
       "      <th>4</th>\n",
       "      <td>Prof</td>\n",
       "      <td>B</td>\n",
       "      <td>40</td>\n",
       "      <td>41</td>\n",
       "      <td>Male</td>\n",
       "      <td>141500</td>\n",
       "    </tr>\n",
       "  </tbody>\n",
       "</table>\n",
       "</div>"
      ],
      "text/plain": [
       "       rank discipline  yrs_phd  yrs_service gender  salary\n",
       "0      Prof          B       19           18   Male  139750\n",
       "1      Prof          B       20           16   Male  173200\n",
       "2  AsstProf          B        4            3   Male   79750\n",
       "3      Prof          B       45           39   Male  115000\n",
       "4      Prof          B       40           41   Male  141500"
      ]
     },
     "execution_count": 99,
     "metadata": {},
     "output_type": "execute_result"
    }
   ],
   "source": [
    "df.head()"
   ]
  },
  {
   "cell_type": "code",
   "execution_count": 100,
   "id": "e4572d0e",
   "metadata": {},
   "outputs": [],
   "source": [
    "mydf = df[['yrs_phd','yrs_service']]\n"
   ]
  },
  {
   "cell_type": "code",
   "execution_count": 101,
   "id": "1dc1ed9e",
   "metadata": {},
   "outputs": [
    {
     "data": {
      "text/html": [
       "<div>\n",
       "<style scoped>\n",
       "    .dataframe tbody tr th:only-of-type {\n",
       "        vertical-align: middle;\n",
       "    }\n",
       "\n",
       "    .dataframe tbody tr th {\n",
       "        vertical-align: top;\n",
       "    }\n",
       "\n",
       "    .dataframe thead th {\n",
       "        text-align: right;\n",
       "    }\n",
       "</style>\n",
       "<table border=\"1\" class=\"dataframe\">\n",
       "  <thead>\n",
       "    <tr style=\"text-align: right;\">\n",
       "      <th></th>\n",
       "      <th>yrs_phd</th>\n",
       "      <th>yrs_service</th>\n",
       "    </tr>\n",
       "  </thead>\n",
       "  <tbody>\n",
       "    <tr>\n",
       "      <th>0</th>\n",
       "      <td>19</td>\n",
       "      <td>18</td>\n",
       "    </tr>\n",
       "    <tr>\n",
       "      <th>1</th>\n",
       "      <td>20</td>\n",
       "      <td>16</td>\n",
       "    </tr>\n",
       "    <tr>\n",
       "      <th>2</th>\n",
       "      <td>4</td>\n",
       "      <td>3</td>\n",
       "    </tr>\n",
       "    <tr>\n",
       "      <th>3</th>\n",
       "      <td>45</td>\n",
       "      <td>39</td>\n",
       "    </tr>\n",
       "    <tr>\n",
       "      <th>4</th>\n",
       "      <td>40</td>\n",
       "      <td>41</td>\n",
       "    </tr>\n",
       "  </tbody>\n",
       "</table>\n",
       "</div>"
      ],
      "text/plain": [
       "   yrs_phd  yrs_service\n",
       "0       19           18\n",
       "1       20           16\n",
       "2        4            3\n",
       "3       45           39\n",
       "4       40           41"
      ]
     },
     "execution_count": 101,
     "metadata": {},
     "output_type": "execute_result"
    }
   ],
   "source": [
    "mydf.head()"
   ]
  },
  {
   "cell_type": "code",
   "execution_count": 106,
   "id": "00c82996",
   "metadata": {},
   "outputs": [
    {
     "data": {
      "text/plain": [
       "'\\nVIF\\nvariance inflation factor\\n<10  ---> no multi.\\n>10 --- column need to be dropeeed\\nhigher the VIF, more is the contribution of that factor multicol\\n'"
      ]
     },
     "execution_count": 106,
     "metadata": {},
     "output_type": "execute_result"
    }
   ],
   "source": [
    "'''\n",
    "VIF\n",
    "variance inflation factor\n",
    "<10  ---> no multi.\n",
    ">10 --- column need to be dropeeed\n",
    "higher the VIF, more is the contribution of that factor multicol\n",
    "'''"
   ]
  },
  {
   "cell_type": "code",
   "execution_count": 107,
   "id": "12975057",
   "metadata": {},
   "outputs": [
    {
     "data": {
      "text/plain": [
       "15.367052069748848"
      ]
     },
     "execution_count": 107,
     "metadata": {},
     "output_type": "execute_result"
    }
   ],
   "source": [
    "variance_inflation_factor(mydf.values,1)\n"
   ]
  },
  {
   "cell_type": "code",
   "execution_count": null,
   "id": "5253ee3f",
   "metadata": {},
   "outputs": [],
   "source": []
  }
 ],
 "metadata": {
  "kernelspec": {
   "display_name": "Python 3 (ipykernel)",
   "language": "python",
   "name": "python3"
  },
  "language_info": {
   "codemirror_mode": {
    "name": "ipython",
    "version": 3
   },
   "file_extension": ".py",
   "mimetype": "text/x-python",
   "name": "python",
   "nbconvert_exporter": "python",
   "pygments_lexer": "ipython3",
   "version": "3.9.13"
  }
 },
 "nbformat": 4,
 "nbformat_minor": 5
}
